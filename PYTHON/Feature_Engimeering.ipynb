{
 "cells": [
  {
   "cell_type": "code",
   "execution_count": 46,
   "metadata": {},
   "outputs": [],
   "source": [
    "#load library\n",
    "import pandas as pd\n",
    "import numpy as np"
   ]
  },
  {
   "cell_type": "code",
   "execution_count": 47,
   "metadata": {},
   "outputs": [],
   "source": [
    "path=\"C:/Users/melika/Desktop/melika/ML_return_rate_prediction/csv/\""
   ]
  },
  {
   "cell_type": "code",
   "execution_count": 48,
   "metadata": {},
   "outputs": [],
   "source": [
    "#load data\n",
    "sales_yr1_cleaned=pd.read_csv(f\"{path}cleaned_sales_yr1.csv\",sep=\",\")\n",
    "sales_yr2_cleaned=pd.read_csv(f\"{path}cleaned_sales_yr2.csv\",sep=\",\")\n",
    "products_cleaned=pd.read_csv(f\"{path}products_cleaned.csv\",sep=\",\")\n"
   ]
  },
  {
   "cell_type": "code",
   "execution_count": 49,
   "metadata": {},
   "outputs": [
    {
     "data": {
      "text/html": [
       "<div>\n",
       "<style scoped>\n",
       "    .dataframe tbody tr th:only-of-type {\n",
       "        vertical-align: middle;\n",
       "    }\n",
       "\n",
       "    .dataframe tbody tr th {\n",
       "        vertical-align: top;\n",
       "    }\n",
       "\n",
       "    .dataframe thead th {\n",
       "        text-align: right;\n",
       "    }\n",
       "</style>\n",
       "<table border=\"1\" class=\"dataframe\">\n",
       "  <thead>\n",
       "    <tr style=\"text-align: right;\">\n",
       "      <th></th>\n",
       "      <th>channel</th>\n",
       "      <th>date_id</th>\n",
       "      <th>pid</th>\n",
       "      <th>net_sales_amount</th>\n",
       "      <th>year</th>\n",
       "      <th>month</th>\n",
       "    </tr>\n",
       "  </thead>\n",
       "  <tbody>\n",
       "    <tr>\n",
       "      <th>0</th>\n",
       "      <td>online</td>\n",
       "      <td>2022-02-01</td>\n",
       "      <td>b51a86b6eee6426</td>\n",
       "      <td>-1</td>\n",
       "      <td>2022</td>\n",
       "      <td>2</td>\n",
       "    </tr>\n",
       "    <tr>\n",
       "      <th>1</th>\n",
       "      <td>online</td>\n",
       "      <td>2021-04-02</td>\n",
       "      <td>669ae35300540ef</td>\n",
       "      <td>-1</td>\n",
       "      <td>2021</td>\n",
       "      <td>4</td>\n",
       "    </tr>\n",
       "    <tr>\n",
       "      <th>2</th>\n",
       "      <td>online</td>\n",
       "      <td>2020-04-10</td>\n",
       "      <td>52836da7b3f28e8</td>\n",
       "      <td>-1</td>\n",
       "      <td>2020</td>\n",
       "      <td>4</td>\n",
       "    </tr>\n",
       "    <tr>\n",
       "      <th>3</th>\n",
       "      <td>online</td>\n",
       "      <td>2021-04-11</td>\n",
       "      <td>e1a2f5ec090c1b7</td>\n",
       "      <td>1</td>\n",
       "      <td>2021</td>\n",
       "      <td>4</td>\n",
       "    </tr>\n",
       "    <tr>\n",
       "      <th>4</th>\n",
       "      <td>online</td>\n",
       "      <td>2019-05-01</td>\n",
       "      <td>e7fb7eb5f96c8cd</td>\n",
       "      <td>3</td>\n",
       "      <td>2019</td>\n",
       "      <td>5</td>\n",
       "    </tr>\n",
       "  </tbody>\n",
       "</table>\n",
       "</div>"
      ],
      "text/plain": [
       "  channel     date_id              pid  net_sales_amount  year  month\n",
       "0  online  2022-02-01  b51a86b6eee6426                -1  2022      2\n",
       "1  online  2021-04-02  669ae35300540ef                -1  2021      4\n",
       "2  online  2020-04-10  52836da7b3f28e8                -1  2020      4\n",
       "3  online  2021-04-11  e1a2f5ec090c1b7                 1  2021      4\n",
       "4  online  2019-05-01  e7fb7eb5f96c8cd                 3  2019      5"
      ]
     },
     "execution_count": 49,
     "metadata": {},
     "output_type": "execute_result"
    }
   ],
   "source": [
    "sales_yr1_cleaned.head()"
   ]
  },
  {
   "cell_type": "code",
   "execution_count": 50,
   "metadata": {},
   "outputs": [
    {
     "data": {
      "text/html": [
       "<div>\n",
       "<style scoped>\n",
       "    .dataframe tbody tr th:only-of-type {\n",
       "        vertical-align: middle;\n",
       "    }\n",
       "\n",
       "    .dataframe tbody tr th {\n",
       "        vertical-align: top;\n",
       "    }\n",
       "\n",
       "    .dataframe thead th {\n",
       "        text-align: right;\n",
       "    }\n",
       "</style>\n",
       "<table border=\"1\" class=\"dataframe\">\n",
       "  <thead>\n",
       "    <tr style=\"text-align: right;\">\n",
       "      <th></th>\n",
       "      <th>pid</th>\n",
       "      <th>brand</th>\n",
       "      <th>category</th>\n",
       "      <th>price</th>\n",
       "      <th>season</th>\n",
       "      <th>subcategory</th>\n",
       "      <th>subsubcategory</th>\n",
       "      <th>numeric_size</th>\n",
       "      <th>count_size</th>\n",
       "    </tr>\n",
       "  </thead>\n",
       "  <tbody>\n",
       "    <tr>\n",
       "      <th>0</th>\n",
       "      <td>00018645b311291</td>\n",
       "      <td>StreamStride</td>\n",
       "      <td>Footwear</td>\n",
       "      <td>66.260</td>\n",
       "      <td>Winter</td>\n",
       "      <td>Adult</td>\n",
       "      <td>Fancy Feet</td>\n",
       "      <td>1</td>\n",
       "      <td>1</td>\n",
       "    </tr>\n",
       "    <tr>\n",
       "      <th>1</th>\n",
       "      <td>0002c09028f0997</td>\n",
       "      <td>ZenithMan</td>\n",
       "      <td>Sweaters</td>\n",
       "      <td>57.442</td>\n",
       "      <td>Summer</td>\n",
       "      <td>Adult</td>\n",
       "      <td>Round-Top</td>\n",
       "      <td>0</td>\n",
       "      <td>4</td>\n",
       "    </tr>\n",
       "  </tbody>\n",
       "</table>\n",
       "</div>"
      ],
      "text/plain": [
       "               pid         brand  category   price  season subcategory  \\\n",
       "0  00018645b311291  StreamStride  Footwear  66.260  Winter       Adult   \n",
       "1  0002c09028f0997     ZenithMan  Sweaters  57.442  Summer       Adult   \n",
       "\n",
       "  subsubcategory  numeric_size  count_size  \n",
       "0     Fancy Feet             1           1  \n",
       "1      Round-Top             0           4  "
      ]
     },
     "execution_count": 50,
     "metadata": {},
     "output_type": "execute_result"
    }
   ],
   "source": [
    "products_cleaned.head(2)"
   ]
  },
  {
   "cell_type": "code",
   "execution_count": 51,
   "metadata": {},
   "outputs": [],
   "source": [
    "# Rename date_id\n",
    "sales_yr1_cleaned.rename(columns={\"date_id\": \"date\"},inplace=True)\n",
    "sales_yr2_cleaned.rename(columns={\"date_id\": \"date\"},inplace=True)"
   ]
  },
  {
   "cell_type": "code",
   "execution_count": 52,
   "metadata": {},
   "outputs": [
    {
     "data": {
      "text/plain": [
       "channel             object\n",
       "date                object\n",
       "pid                 object\n",
       "net_sales_amount     int64\n",
       "year                 int64\n",
       "month                int64\n",
       "dtype: object"
      ]
     },
     "execution_count": 52,
     "metadata": {},
     "output_type": "execute_result"
    }
   ],
   "source": [
    "sales_yr1_cleaned.dtypes"
   ]
  },
  {
   "cell_type": "code",
   "execution_count": 53,
   "metadata": {},
   "outputs": [],
   "source": [
    "#Make sure dates are represented correctly\n",
    "sales_yr1_cleaned[\"date\"] = pd.to_datetime(sales_yr1_cleaned[\"date\"], format='%Y-%m-%d')\n",
    "sales_yr2_cleaned[\"date\"] = pd.to_datetime(sales_yr2_cleaned[\"date\"], format='%Y-%m-%d')"
   ]
  },
  {
   "cell_type": "code",
   "execution_count": 54,
   "metadata": {},
   "outputs": [
    {
     "data": {
      "text/plain": [
       "channel                     object\n",
       "date                datetime64[ns]\n",
       "pid                         object\n",
       "net_sales_amount             int64\n",
       "year                         int64\n",
       "month                        int64\n",
       "dtype: object"
      ]
     },
     "execution_count": 54,
     "metadata": {},
     "output_type": "execute_result"
    }
   ],
   "source": [
    "sales_yr1_cleaned.dtypes"
   ]
  },
  {
   "cell_type": "code",
   "execution_count": 55,
   "metadata": {},
   "outputs": [
    {
     "name": "stdout",
     "output_type": "stream",
     "text": [
      "min date year1 2018-01-12 00:00:00\n",
      "max date year1 2023-04-11 00:00:00\n",
      "min date year2 2018-01-12 00:00:00\n",
      "max date year2 2023-04-11 00:00:00\n"
     ]
    }
   ],
   "source": [
    "print(\"min date year1\",min(sales_yr1_cleaned[\"date\"]))\n",
    "print(\"max date year1\",max(sales_yr1_cleaned[\"date\"]))\n",
    "print(\"min date year2\",min(sales_yr1_cleaned[\"date\"]))\n",
    "print(\"max date year2\",max(sales_yr1_cleaned[\"date\"]))"
   ]
  },
  {
   "cell_type": "code",
   "execution_count": 56,
   "metadata": {},
   "outputs": [
    {
     "name": "stdout",
     "output_type": "stream",
     "text": [
      "year\n",
      "2021    261570\n",
      "2022     91726\n",
      "2020     27746\n",
      "2023     10586\n",
      "2018      8875\n",
      "2019       770\n",
      "Name: count, dtype: int64\n",
      "year\n",
      "2022    51712\n",
      "2021     4346\n",
      "2018     1381\n",
      "2023     1140\n",
      "2020      313\n",
      "2019      106\n",
      "Name: count, dtype: int64\n"
     ]
    }
   ],
   "source": [
    "# Extract the year and store it in a new column called 'year'\n",
    "sales_yr1_cleaned['year'] = sales_yr1_cleaned['date'].dt.year\n",
    "sales_yr2_cleaned['year'] = sales_yr2_cleaned['date'].dt.year\n",
    "print(sales_yr1_cleaned['year'].value_counts())\n",
    "print(sales_yr2_cleaned['year'].value_counts())\n"
   ]
  },
  {
   "cell_type": "code",
   "execution_count": 57,
   "metadata": {},
   "outputs": [],
   "source": [
    "# just keep year 2021 for year1 and 2022 for year2\n",
    "\n",
    "sales_yr1_cleaned = sales_yr1_cleaned[sales_yr1_cleaned['year'] == 2021]\n",
    "sales_yr2_cleaned = sales_yr2_cleaned[sales_yr2_cleaned['year'] == 2022]\n"
   ]
  },
  {
   "cell_type": "code",
   "execution_count": 59,
   "metadata": {},
   "outputs": [],
   "source": [
    "# 01 dealing with y varialbe, yearly return rate\n",
    " \n",
    "pid_sold_year1 = sales_yr1_cleaned[sales_yr1_cleaned['net_sales_amount'] > 0]\n",
    "pid_sold_year1 = pid_sold_year1[['pid','net_sales_amount']]\n",
    "pid_sold_year1= pid_sold_year1.groupby('pid')['net_sales_amount'].sum().reset_index()\n",
    "pid_sold_year1.rename(columns={'net_sales_amount':\"total_sell\"} ,inplace=True)\n",
    "\n",
    "pid_sold_year2 = sales_yr2_cleaned[sales_yr2_cleaned['net_sales_amount'] > 0]\n",
    "pid_sold_year2 = pid_sold_year2[['pid','net_sales_amount']]\n",
    "pid_sold_year2= pid_sold_year2.groupby('pid')['net_sales_amount'].sum().reset_index()\n",
    "pid_sold_year2.rename(columns={'net_sales_amount':\"total_sell\"} ,inplace=True)"
   ]
  },
  {
   "cell_type": "code",
   "execution_count": 60,
   "metadata": {},
   "outputs": [],
   "source": [
    "pid_return_year1 = sales_yr1_cleaned[sales_yr1_cleaned['net_sales_amount'] < 0]\n",
    "pid_return_year1 = pid_return_year1[['pid','net_sales_amount']]\n",
    "pid_return_year1= pid_return_year1.groupby('pid')['net_sales_amount'].sum().reset_index()\n",
    "pid_return_year1.rename(columns={'net_sales_amount':\"total_return\"} ,inplace=True)\n",
    "\n",
    "pid_return_year2 = sales_yr2_cleaned[sales_yr2_cleaned['net_sales_amount'] < 0]\n",
    "pid_return_year2 = pid_return_year2[['pid','net_sales_amount']]\n",
    "pid_return_year2= pid_return_year2.groupby('pid')['net_sales_amount'].sum().reset_index()\n",
    "pid_return_year2.rename(columns={'net_sales_amount':\"total_return\"} ,inplace=True)"
   ]
  },
  {
   "cell_type": "code",
   "execution_count": 65,
   "metadata": {},
   "outputs": [
    {
     "data": {
      "text/html": [
       "<div>\n",
       "<style scoped>\n",
       "    .dataframe tbody tr th:only-of-type {\n",
       "        vertical-align: middle;\n",
       "    }\n",
       "\n",
       "    .dataframe tbody tr th {\n",
       "        vertical-align: top;\n",
       "    }\n",
       "\n",
       "    .dataframe thead th {\n",
       "        text-align: right;\n",
       "    }\n",
       "</style>\n",
       "<table border=\"1\" class=\"dataframe\">\n",
       "  <thead>\n",
       "    <tr style=\"text-align: right;\">\n",
       "      <th></th>\n",
       "      <th>pid</th>\n",
       "      <th>total_return</th>\n",
       "      <th>total_sell</th>\n",
       "      <th>yearly_return_rate</th>\n",
       "    </tr>\n",
       "  </thead>\n",
       "  <tbody>\n",
       "    <tr>\n",
       "      <th>0</th>\n",
       "      <td>00224c8caec6e96</td>\n",
       "      <td>-3.0</td>\n",
       "      <td>95</td>\n",
       "      <td>0.031579</td>\n",
       "    </tr>\n",
       "    <tr>\n",
       "      <th>1</th>\n",
       "      <td>002b22cf4d1247a</td>\n",
       "      <td>0.0</td>\n",
       "      <td>6</td>\n",
       "      <td>-0.000000</td>\n",
       "    </tr>\n",
       "    <tr>\n",
       "      <th>2</th>\n",
       "      <td>003f7b23afe2e4b</td>\n",
       "      <td>-14.0</td>\n",
       "      <td>96</td>\n",
       "      <td>0.145833</td>\n",
       "    </tr>\n",
       "    <tr>\n",
       "      <th>3</th>\n",
       "      <td>004231d36ee967c</td>\n",
       "      <td>-3.0</td>\n",
       "      <td>130</td>\n",
       "      <td>0.023077</td>\n",
       "    </tr>\n",
       "    <tr>\n",
       "      <th>4</th>\n",
       "      <td>004e81b565469e2</td>\n",
       "      <td>-1.0</td>\n",
       "      <td>1</td>\n",
       "      <td>1.000000</td>\n",
       "    </tr>\n",
       "    <tr>\n",
       "      <th>...</th>\n",
       "      <td>...</td>\n",
       "      <td>...</td>\n",
       "      <td>...</td>\n",
       "      <td>...</td>\n",
       "    </tr>\n",
       "    <tr>\n",
       "      <th>5822</th>\n",
       "      <td>ffcb12fb015cefb</td>\n",
       "      <td>-3.0</td>\n",
       "      <td>42</td>\n",
       "      <td>0.071429</td>\n",
       "    </tr>\n",
       "    <tr>\n",
       "      <th>5823</th>\n",
       "      <td>fff26be3fa7a676</td>\n",
       "      <td>0.0</td>\n",
       "      <td>6</td>\n",
       "      <td>-0.000000</td>\n",
       "    </tr>\n",
       "    <tr>\n",
       "      <th>5824</th>\n",
       "      <td>fffbef632ce3199</td>\n",
       "      <td>0.0</td>\n",
       "      <td>2</td>\n",
       "      <td>-0.000000</td>\n",
       "    </tr>\n",
       "    <tr>\n",
       "      <th>5825</th>\n",
       "      <td>fffeafe6012cca8</td>\n",
       "      <td>0.0</td>\n",
       "      <td>15</td>\n",
       "      <td>-0.000000</td>\n",
       "    </tr>\n",
       "    <tr>\n",
       "      <th>5826</th>\n",
       "      <td>fffeb97913eb3d2</td>\n",
       "      <td>-8.0</td>\n",
       "      <td>44</td>\n",
       "      <td>0.181818</td>\n",
       "    </tr>\n",
       "  </tbody>\n",
       "</table>\n",
       "<p>5827 rows × 4 columns</p>\n",
       "</div>"
      ],
      "text/plain": [
       "                  pid  total_return  total_sell  yearly_return_rate\n",
       "0     00224c8caec6e96          -3.0          95            0.031579\n",
       "1     002b22cf4d1247a           0.0           6           -0.000000\n",
       "2     003f7b23afe2e4b         -14.0          96            0.145833\n",
       "3     004231d36ee967c          -3.0         130            0.023077\n",
       "4     004e81b565469e2          -1.0           1            1.000000\n",
       "...               ...           ...         ...                 ...\n",
       "5822  ffcb12fb015cefb          -3.0          42            0.071429\n",
       "5823  fff26be3fa7a676           0.0           6           -0.000000\n",
       "5824  fffbef632ce3199           0.0           2           -0.000000\n",
       "5825  fffeafe6012cca8           0.0          15           -0.000000\n",
       "5826  fffeb97913eb3d2          -8.0          44            0.181818\n",
       "\n",
       "[5827 rows x 4 columns]"
      ]
     },
     "execution_count": 65,
     "metadata": {},
     "output_type": "execute_result"
    }
   ],
   "source": [
    "pid_return_rate_year1 = pid_return_year1.merge(pid_sold_year1, on='pid', how='right')\n",
    "pid_return_rate_year1.fillna(value={'total_return':0},inplace=True)\n",
    "# Assuming pid_return_rate_year1 is the DataFrame with 'total_return' and 'total_sell' columns\n",
    "pid_return_rate_year1['yearly_return_rate'] = pid_return_rate_year1.apply(\n",
    "    lambda row: 0 if row['total_sell'] == 0 else row['total_return'] * -1 / row['total_sell'],\n",
    "    axis=1\n",
    ")\n",
    "\n",
    "pid_return_rate_year2 = pid_return_year2.merge(pid_sold_year2, on='pid', how='right')\n",
    "pid_return_rate_year2.fillna(value={'total_return':0},inplace=True)\n",
    "# Assuming pid_return_rate_year1 is the DataFrame with 'total_return' and 'total_sell' columns\n",
    "pid_return_rate_year2['yearly_return_rate'] = pid_return_rate_year2.apply(\n",
    "    lambda row: 0 if row['total_sell'] == 0 else row['total_return'] * -1 / row['total_sell'],\n",
    "    axis=1\n",
    ")\n",
    "\n",
    "\n",
    "pid_return_rate_year1"
   ]
  }
 ],
 "metadata": {
  "kernelspec": {
   "display_name": "Python 3",
   "language": "python",
   "name": "python3"
  },
  "language_info": {
   "codemirror_mode": {
    "name": "ipython",
    "version": 3
   },
   "file_extension": ".py",
   "mimetype": "text/x-python",
   "name": "python",
   "nbconvert_exporter": "python",
   "pygments_lexer": "ipython3",
   "version": "3.12.3"
  }
 },
 "nbformat": 4,
 "nbformat_minor": 2
}
