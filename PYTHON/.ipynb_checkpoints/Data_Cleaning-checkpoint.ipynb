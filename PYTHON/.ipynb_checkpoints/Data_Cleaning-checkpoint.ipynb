{
 "cells": [
  {
   "cell_type": "code",
   "execution_count": 279,
   "id": "0afe232d-0757-4253-94d4-5be4560b60d6",
   "metadata": {},
   "outputs": [],
   "source": [
    "#load library\n",
    "import pandas as pd\n",
    "import numpy as np"
   ]
  },
  {
   "cell_type": "code",
   "execution_count": 280,
   "id": "5f7917ac-7477-488d-b7b3-9be4c0aaf74c",
   "metadata": {},
   "outputs": [],
   "source": [
    "path=\"C:/Users/melika/Desktop/melika/ML_return_rate_prediction/csv/\""
   ]
  },
  {
   "cell_type": "code",
   "execution_count": 281,
   "id": "a29a8612-55db-4bdd-84b4-27368f8a48da",
   "metadata": {},
   "outputs": [],
   "source": [
    "products=pd.read_csv(f\"{path}products.csv\",sep=\",\")\n",
    "predictions=pd.read_csv(f\"{path}predictions.csv\",sep=\",\")\n",
    "sales_yr1=pd.read_csv(f\"{path}sales_yr1.csv\",sep=\",\")\n",
    "sales_yr2=pd.read_csv(f\"{path}sales_yr2.csv\",sep=\",\")"
   ]
  },
  {
   "cell_type": "markdown",
   "id": "acb5320a-537c-480f-b2d2-9b1d4f6729a8",
   "metadata": {},
   "source": [
    "# Cleaning process"
   ]
  },
  {
   "cell_type": "markdown",
   "id": "5434e5f2-efa9-4d2a-8f49-dffa1baa1c28",
   "metadata": {},
   "source": [
    "## Table 1 : product"
   ]
  },
  {
   "cell_type": "code",
   "execution_count": 282,
   "id": "ab8a9cb4-335a-4d67-bfc7-0d782b1dd70e",
   "metadata": {},
   "outputs": [
    {
     "data": {
      "text/html": [
       "<div>\n",
       "<style scoped>\n",
       "    .dataframe tbody tr th:only-of-type {\n",
       "        vertical-align: middle;\n",
       "    }\n",
       "\n",
       "    .dataframe tbody tr th {\n",
       "        vertical-align: top;\n",
       "    }\n",
       "\n",
       "    .dataframe thead th {\n",
       "        text-align: right;\n",
       "    }\n",
       "</style>\n",
       "<table border=\"1\" class=\"dataframe\">\n",
       "  <thead>\n",
       "    <tr style=\"text-align: right;\">\n",
       "      <th></th>\n",
       "      <th>brand</th>\n",
       "      <th>category</th>\n",
       "      <th>pid</th>\n",
       "      <th>price</th>\n",
       "      <th>season</th>\n",
       "      <th>sku_size</th>\n",
       "      <th>subcategory</th>\n",
       "      <th>subsubcategory</th>\n",
       "    </tr>\n",
       "  </thead>\n",
       "  <tbody>\n",
       "    <tr>\n",
       "      <th>0</th>\n",
       "      <td>[brand::]BlueRiver Co.</td>\n",
       "      <td>Formal Attire</td>\n",
       "      <td>b9c74f687ca55f2</td>\n",
       "      <td>74.57  €</td>\n",
       "      <td>Winter</td>\n",
       "      <td>46</td>\n",
       "      <td>Formal Attire-Petite</td>\n",
       "      <td>Formal Set</td>\n",
       "    </tr>\n",
       "    <tr>\n",
       "      <th>1</th>\n",
       "      <td>[brand::]BlueRiver Co.</td>\n",
       "      <td>Formal Attire</td>\n",
       "      <td>b9c74f687ca55f2</td>\n",
       "      <td>74.57  €</td>\n",
       "      <td>Winter</td>\n",
       "      <td>50</td>\n",
       "      <td>Formal Attire-Petite</td>\n",
       "      <td>Formal Set</td>\n",
       "    </tr>\n",
       "  </tbody>\n",
       "</table>\n",
       "</div>"
      ],
      "text/plain": [
       "                    brand       category              pid     price  season  \\\n",
       "0  [brand::]BlueRiver Co.  Formal Attire  b9c74f687ca55f2  74.57  €  Winter   \n",
       "1  [brand::]BlueRiver Co.  Formal Attire  b9c74f687ca55f2  74.57  €  Winter   \n",
       "\n",
       "  sku_size           subcategory subsubcategory  \n",
       "0     46    Formal Attire-Petite     Formal Set  \n",
       "1     50    Formal Attire-Petite     Formal Set  "
      ]
     },
     "execution_count": 282,
     "metadata": {},
     "output_type": "execute_result"
    }
   ],
   "source": [
    "products.head(2)"
   ]
  },
  {
   "cell_type": "code",
   "execution_count": 283,
   "id": "b894c472-352a-4689-a47a-6b4e8a8e83bb",
   "metadata": {},
   "outputs": [
    {
     "data": {
      "text/plain": [
       "(60146, 8)"
      ]
     },
     "execution_count": 283,
     "metadata": {},
     "output_type": "execute_result"
    }
   ],
   "source": [
    "products.shape"
   ]
  },
  {
   "cell_type": "code",
   "execution_count": 284,
   "id": "49d7ad27-7a8c-48bd-a9a1-8cbfa6b38893",
   "metadata": {},
   "outputs": [
    {
     "data": {
      "text/html": [
       "<div>\n",
       "<style scoped>\n",
       "    .dataframe tbody tr th:only-of-type {\n",
       "        vertical-align: middle;\n",
       "    }\n",
       "\n",
       "    .dataframe tbody tr th {\n",
       "        vertical-align: top;\n",
       "    }\n",
       "\n",
       "    .dataframe thead th {\n",
       "        text-align: right;\n",
       "    }\n",
       "</style>\n",
       "<table border=\"1\" class=\"dataframe\">\n",
       "  <thead>\n",
       "    <tr style=\"text-align: right;\">\n",
       "      <th></th>\n",
       "      <th>brand</th>\n",
       "      <th>category</th>\n",
       "      <th>pid</th>\n",
       "      <th>price</th>\n",
       "      <th>season</th>\n",
       "      <th>sku_size</th>\n",
       "      <th>subcategory</th>\n",
       "      <th>subsubcategory</th>\n",
       "    </tr>\n",
       "  </thead>\n",
       "  <tbody>\n",
       "    <tr>\n",
       "      <th>count</th>\n",
       "      <td>59404</td>\n",
       "      <td>60146</td>\n",
       "      <td>60146</td>\n",
       "      <td>60146</td>\n",
       "      <td>60146</td>\n",
       "      <td>59484</td>\n",
       "      <td>60146</td>\n",
       "      <td>60124</td>\n",
       "    </tr>\n",
       "    <tr>\n",
       "      <th>unique</th>\n",
       "      <td>84</td>\n",
       "      <td>11</td>\n",
       "      <td>13027</td>\n",
       "      <td>545</td>\n",
       "      <td>2</td>\n",
       "      <td>134</td>\n",
       "      <td>20</td>\n",
       "      <td>65</td>\n",
       "    </tr>\n",
       "    <tr>\n",
       "      <th>top</th>\n",
       "      <td>[brand::]SkyWing</td>\n",
       "      <td>Tops</td>\n",
       "      <td>4429df044bcdb02</td>\n",
       "      <td>53.99  €</td>\n",
       "      <td>Summer</td>\n",
       "      <td>M</td>\n",
       "      <td>Tops-Adult</td>\n",
       "      <td>Sporty Short-Sleeve</td>\n",
       "    </tr>\n",
       "    <tr>\n",
       "      <th>freq</th>\n",
       "      <td>5663</td>\n",
       "      <td>13534</td>\n",
       "      <td>43</td>\n",
       "      <td>2551</td>\n",
       "      <td>32875</td>\n",
       "      <td>7940</td>\n",
       "      <td>12432</td>\n",
       "      <td>7383</td>\n",
       "    </tr>\n",
       "  </tbody>\n",
       "</table>\n",
       "</div>"
      ],
      "text/plain": [
       "                   brand category              pid     price  season sku_size  \\\n",
       "count              59404    60146            60146     60146   60146    59484   \n",
       "unique                84       11            13027       545       2      134   \n",
       "top     [brand::]SkyWing     Tops  4429df044bcdb02  53.99  €  Summer      M     \n",
       "freq                5663    13534               43      2551   32875     7940   \n",
       "\n",
       "       subcategory       subsubcategory  \n",
       "count        60146                60124  \n",
       "unique          20                   65  \n",
       "top     Tops-Adult  Sporty Short-Sleeve  \n",
       "freq         12432                 7383  "
      ]
     },
     "execution_count": 284,
     "metadata": {},
     "output_type": "execute_result"
    }
   ],
   "source": [
    "products.describe()"
   ]
  },
  {
   "cell_type": "code",
   "execution_count": 285,
   "id": "6e4fdaf9-c7cd-4cd7-ba2a-b8107c2bb5b5",
   "metadata": {},
   "outputs": [
    {
     "data": {
      "text/plain": [
       "brand             object\n",
       "category          object\n",
       "pid               object\n",
       "price             object\n",
       "season            object\n",
       "sku_size          object\n",
       "subcategory       object\n",
       "subsubcategory    object\n",
       "dtype: object"
      ]
     },
     "execution_count": 285,
     "metadata": {},
     "output_type": "execute_result"
    }
   ],
   "source": [
    "products.dtypes"
   ]
  },
  {
   "cell_type": "markdown",
   "id": "6e7f7e74-23e3-4859-b451-1b0c0e930dee",
   "metadata": {},
   "source": [
    "### 1.1 price"
   ]
  },
  {
   "cell_type": "code",
   "execution_count": 286,
   "id": "ca28ec7f-def5-4134-90d4-5cc14b312901",
   "metadata": {},
   "outputs": [],
   "source": [
    "# Remove currency symbols (e.g., '$') from the 'price' column\n",
    "products['price'] = products['price'].str.replace('€','',regex=True)\n",
    "# Remove any leading or trailing whitespace\n",
    "products['price'] = products['price'].str.strip()  \n",
    "# Convert to numeric, coercing errors to NaN\n",
    "products['price'] = pd.to_numeric(products['price'], errors='coerce')"
   ]
  },
  {
   "cell_type": "code",
   "execution_count": 287,
   "id": "795db301-ccba-428c-bd40-5cb7f54e3c1b",
   "metadata": {},
   "outputs": [
    {
     "data": {
      "text/plain": [
       "brand              object\n",
       "category           object\n",
       "pid                object\n",
       "price             float64\n",
       "season             object\n",
       "sku_size           object\n",
       "subcategory        object\n",
       "subsubcategory     object\n",
       "dtype: object"
      ]
     },
     "execution_count": 287,
     "metadata": {},
     "output_type": "execute_result"
    }
   ],
   "source": [
    "products.dtypes"
   ]
  },
  {
   "cell_type": "code",
   "execution_count": 288,
   "id": "52586f35-b85d-4fe8-b1fb-54ffe76a6c4d",
   "metadata": {},
   "outputs": [
    {
     "data": {
      "text/plain": [
       "count    60145.000000\n",
       "mean        56.677518\n",
       "std          6.563974\n",
       "min        -48.120000\n",
       "25%         52.580000\n",
       "50%         56.400000\n",
       "75%         60.520000\n",
       "max         86.490000\n",
       "Name: price, dtype: float64"
      ]
     },
     "execution_count": 288,
     "metadata": {},
     "output_type": "execute_result"
    }
   ],
   "source": [
    "products['price'].describe()"
   ]
  },
  {
   "cell_type": "code",
   "execution_count": 289,
   "id": "33bb88b5-5780-4131-b381-8425c0daa495",
   "metadata": {},
   "outputs": [
    {
     "data": {
      "text/html": [
       "<div>\n",
       "<style scoped>\n",
       "    .dataframe tbody tr th:only-of-type {\n",
       "        vertical-align: middle;\n",
       "    }\n",
       "\n",
       "    .dataframe tbody tr th {\n",
       "        vertical-align: top;\n",
       "    }\n",
       "\n",
       "    .dataframe thead th {\n",
       "        text-align: right;\n",
       "    }\n",
       "</style>\n",
       "<table border=\"1\" class=\"dataframe\">\n",
       "  <thead>\n",
       "    <tr style=\"text-align: right;\">\n",
       "      <th></th>\n",
       "      <th>brand</th>\n",
       "      <th>category</th>\n",
       "      <th>pid</th>\n",
       "      <th>price</th>\n",
       "      <th>season</th>\n",
       "      <th>sku_size</th>\n",
       "      <th>subcategory</th>\n",
       "      <th>subsubcategory</th>\n",
       "    </tr>\n",
       "  </thead>\n",
       "  <tbody>\n",
       "    <tr>\n",
       "      <th>26964</th>\n",
       "      <td>[brand::]FrontlineStyles</td>\n",
       "      <td>Miscellaneous</td>\n",
       "      <td>bbfdd87aa41aa46</td>\n",
       "      <td>-48.12</td>\n",
       "      <td>Winter</td>\n",
       "      <td>0</td>\n",
       "      <td>Miscellaneous-Adult</td>\n",
       "      <td>Bling</td>\n",
       "    </tr>\n",
       "    <tr>\n",
       "      <th>45736</th>\n",
       "      <td>[brand::]DarkHarbor</td>\n",
       "      <td>Sweaters</td>\n",
       "      <td>192e40abd0fa700</td>\n",
       "      <td>-45.78</td>\n",
       "      <td>Winter</td>\n",
       "      <td>XL</td>\n",
       "      <td>Sweaters-Petite</td>\n",
       "      <td>Plunge Top</td>\n",
       "    </tr>\n",
       "  </tbody>\n",
       "</table>\n",
       "</div>"
      ],
      "text/plain": [
       "                          brand       category              pid  price  \\\n",
       "26964  [brand::]FrontlineStyles  Miscellaneous  bbfdd87aa41aa46 -48.12   \n",
       "45736       [brand::]DarkHarbor       Sweaters  192e40abd0fa700 -45.78   \n",
       "\n",
       "       season sku_size          subcategory subsubcategory  \n",
       "26964  Winter      0    Miscellaneous-Adult          Bling  \n",
       "45736  Winter     XL        Sweaters-Petite     Plunge Top  "
      ]
     },
     "execution_count": 289,
     "metadata": {},
     "output_type": "execute_result"
    }
   ],
   "source": [
    "#count negetive price\n",
    "products[products['price']<0]"
   ]
  },
  {
   "cell_type": "code",
   "execution_count": 290,
   "id": "10c7537f-5ec0-4413-abbe-076c4a612c35",
   "metadata": {},
   "outputs": [],
   "source": [
    "# Drop rows where 'price' is negative\n",
    "products = products[products['price'] >= 0]"
   ]
  },
  {
   "cell_type": "code",
   "execution_count": 291,
   "id": "8670ecd8-c3d8-4d8f-ac86-2c5f77e75a2a",
   "metadata": {},
   "outputs": [
    {
     "data": {
      "text/plain": [
       "count    60143.000000\n",
       "mean        56.680964\n",
       "std          6.536820\n",
       "min         23.300000\n",
       "25%         52.580000\n",
       "50%         56.400000\n",
       "75%         60.520000\n",
       "max         86.490000\n",
       "Name: price, dtype: float64"
      ]
     },
     "execution_count": 291,
     "metadata": {},
     "output_type": "execute_result"
    }
   ],
   "source": [
    "products['price'].describe()"
   ]
  },
  {
   "cell_type": "markdown",
   "id": "132d93d9-d30d-4ea5-b4a2-cf37fc2e2706",
   "metadata": {},
   "source": [
    "### 1.2 category and subcategory variable"
   ]
  },
  {
   "cell_type": "code",
   "execution_count": 292,
   "id": "5a6840ff-9d9e-41ec-8956-855ce7f56eef",
   "metadata": {},
   "outputs": [
    {
     "data": {
      "text/plain": [
       "category\n",
       "Tops              13534\n",
       "Sweaters          12753\n",
       "Trousers          11211\n",
       "Button-Ups         8351\n",
       "Footwear           6152\n",
       "Outerwear          4606\n",
       "Blazers            1460\n",
       "Miscellaneous      1087\n",
       "High-End Items      768\n",
       "Formal Attire       207\n",
       "Add-Ons              14\n",
       "Name: count, dtype: int64"
      ]
     },
     "execution_count": 292,
     "metadata": {},
     "output_type": "execute_result"
    }
   ],
   "source": [
    "products['category'].value_counts()"
   ]
  },
  {
   "cell_type": "code",
   "execution_count": 293,
   "id": "bcb5233d-36f5-4458-933f-cb7ed75b544b",
   "metadata": {},
   "outputs": [
    {
     "data": {
      "text/plain": [
       "0        Formal Attire-Petite\n",
       "1        Formal Attire-Petite\n",
       "2        Formal Attire-Petite\n",
       "3        Formal Attire-Petite\n",
       "4        Formal Attire-Petite\n",
       "                 ...         \n",
       "60141        Button-Ups-Adult\n",
       "60142        Button-Ups-Adult\n",
       "60143        Button-Ups-Adult\n",
       "60144        Button-Ups-Adult\n",
       "60145        Button-Ups-Adult\n",
       "Name: subcategory, Length: 60143, dtype: object"
      ]
     },
     "execution_count": 293,
     "metadata": {},
     "output_type": "execute_result"
    }
   ],
   "source": [
    "products['subcategory']"
   ]
  },
  {
   "cell_type": "code",
   "execution_count": 294,
   "id": "1cc21a56-c5eb-4f3d-9b3a-bead7687ac2f",
   "metadata": {},
   "outputs": [
    {
     "data": {
      "text/plain": [
       "count          60143\n",
       "unique            20\n",
       "top       Tops-Adult\n",
       "freq           12432\n",
       "Name: subcategory, dtype: object"
      ]
     },
     "execution_count": 294,
     "metadata": {},
     "output_type": "execute_result"
    }
   ],
   "source": [
    "products['subcategory'].describe()"
   ]
  },
  {
   "cell_type": "code",
   "execution_count": 295,
   "id": "252a98fc-03c6-46cb-84cf-00c6e8bbdc8a",
   "metadata": {},
   "outputs": [],
   "source": [
    "# Remove text before hyphen in the 'subcategory' column\n",
    "products['subcategory'] = products['subcategory'].str.replace('.*-','',regex=True)"
   ]
  },
  {
   "cell_type": "code",
   "execution_count": 296,
   "id": "f02c740e-3c5f-402a-b6a6-8320d171381b",
   "metadata": {},
   "outputs": [
    {
     "data": {
      "text/plain": [
       "count     60143\n",
       "unique        3\n",
       "top       Adult\n",
       "freq      52266\n",
       "Name: subcategory, dtype: object"
      ]
     },
     "execution_count": 296,
     "metadata": {},
     "output_type": "execute_result"
    }
   ],
   "source": [
    "# now we can see we just have 3 unique subcategory\n",
    "products['subcategory'].describe()"
   ]
  },
  {
   "cell_type": "markdown",
   "id": "99c34913-ed06-4f8c-a313-324e6a56ef0a",
   "metadata": {},
   "source": [
    "### 1.3 brand "
   ]
  },
  {
   "cell_type": "code",
   "execution_count": 297,
   "id": "286918b7-f902-4ba6-96db-b34ee467ac5b",
   "metadata": {},
   "outputs": [
    {
     "data": {
      "text/plain": [
       "0        [brand::]BlueRiver Co.\n",
       "1        [brand::]BlueRiver Co.\n",
       "2        [brand::]BlueRiver Co.\n",
       "3        [brand::]BlueRiver Co.\n",
       "4        [brand::]BlueRiver Co.\n",
       "                  ...          \n",
       "60141           [brand::]DocMan\n",
       "60142           [brand::]DocMan\n",
       "60143           [brand::]DocMan\n",
       "60144           [brand::]DocMan\n",
       "60145           [brand::]DocMan\n",
       "Name: brand, Length: 60143, dtype: object"
      ]
     },
     "execution_count": 297,
     "metadata": {},
     "output_type": "execute_result"
    }
   ],
   "source": [
    "products['brand']"
   ]
  },
  {
   "cell_type": "code",
   "execution_count": 298,
   "id": "7514c41c-8b40-4884-aa2d-54825e2a9bfe",
   "metadata": {},
   "outputs": [],
   "source": [
    "# Clean up the 'brand' column\n",
    "products['brand'] = products['brand'].str.replace('.*]','',regex=True)"
   ]
  },
  {
   "cell_type": "code",
   "execution_count": 299,
   "id": "d6bc9a64-0c65-4a1b-a1e0-b6baac9fb718",
   "metadata": {},
   "outputs": [
    {
     "data": {
      "text/plain": [
       "0        BlueRiver Co.\n",
       "1        BlueRiver Co.\n",
       "2        BlueRiver Co.\n",
       "3        BlueRiver Co.\n",
       "4        BlueRiver Co.\n",
       "             ...      \n",
       "60141           DocMan\n",
       "60142           DocMan\n",
       "60143           DocMan\n",
       "60144           DocMan\n",
       "60145           DocMan\n",
       "Name: brand, Length: 60143, dtype: object"
      ]
     },
     "execution_count": 299,
     "metadata": {},
     "output_type": "execute_result"
    }
   ],
   "source": [
    "products['brand']"
   ]
  },
  {
   "cell_type": "code",
   "execution_count": 300,
   "id": "ce321af9-53e0-4e64-a595-f6d9c66b5100",
   "metadata": {
    "scrolled": true
   },
   "outputs": [
    {
     "data": {
      "text/plain": [
       "['',\n",
       " 'ArcAngel',\n",
       " 'AzureMeat',\n",
       " 'AzureStone',\n",
       " 'AzureWorks',\n",
       " 'BertWear',\n",
       " 'BigStone',\n",
       " 'Blend&Woven',\n",
       " 'BlueRidge',\n",
       " 'BlueRiver Co.',\n",
       " 'BoxMix',\n",
       " 'BuilderStyles',\n",
       " 'CanvasCraft',\n",
       " 'ChillCube',\n",
       " 'CityBrief',\n",
       " 'CloudNine',\n",
       " 'CoralAndFin',\n",
       " 'CoralTrend',\n",
       " 'DarkHarbor',\n",
       " 'DocMan',\n",
       " 'DotDash',\n",
       " 'EchoStyles',\n",
       " 'FlashBack',\n",
       " 'FlatField',\n",
       " 'ForestFoot',\n",
       " 'FrontlineStyles',\n",
       " 'FuelThreads',\n",
       " 'GateStyles',\n",
       " 'GeoStyles',\n",
       " 'HarborTrend',\n",
       " 'HatMasters',\n",
       " 'HighClass',\n",
       " 'IslandLife',\n",
       " 'IsleWear',\n",
       " 'IvyCraft',\n",
       " 'KickStar',\n",
       " 'LakeStyles',\n",
       " 'LookSee',\n",
       " 'LunarLuxe',\n",
       " 'MeadowMaster',\n",
       " 'MetalMold',\n",
       " 'MetroMaven',\n",
       " 'MoonWear',\n",
       " 'MysticLoaf',\n",
       " 'NordicFit',\n",
       " 'NullLabel',\n",
       " 'OceanSketch Elite',\n",
       " 'OldVine Styles',\n",
       " 'OliveSlate',\n",
       " 'OrchardM',\n",
       " 'PeakStyles',\n",
       " 'PedalPrime',\n",
       " 'PineAndFern',\n",
       " 'PlaidCrafters',\n",
       " 'PureDenim',\n",
       " 'PuzzleWear',\n",
       " 'RavenBeach',\n",
       " 'RavenRock',\n",
       " 'RefreshStyles',\n",
       " 'ReinStyles',\n",
       " 'RhythmWear',\n",
       " 'RosePath',\n",
       " 'SilkLeaf',\n",
       " 'SkyGuard',\n",
       " 'SkyWing',\n",
       " 'Skyward',\n",
       " 'SnowPeak',\n",
       " 'SoftTrend',\n",
       " 'SpeedThreads',\n",
       " 'StarHub Threads',\n",
       " 'StreamStride',\n",
       " 'TargetStyles',\n",
       " 'TimelessMan',\n",
       " 'TulipTread',\n",
       " 'TurboTrend',\n",
       " 'UrbanAce',\n",
       " 'UrbanZen',\n",
       " 'VisionMakers',\n",
       " 'VolcanoWear',\n",
       " 'WillowWalk',\n",
       " 'WineThread',\n",
       " 'WitchHazel',\n",
       " 'WorldSight',\n",
       " 'ZenithMan',\n",
       " 'nan']"
      ]
     },
     "execution_count": 300,
     "metadata": {},
     "output_type": "execute_result"
    }
   ],
   "source": [
    "unique_brand = products['brand'].unique()\n",
    "sort_brand = [str(item) for item in unique_brand ]\n",
    "sort_brand.sort()\n",
    "sort_brand"
   ]
  },
  {
   "cell_type": "code",
   "execution_count": 301,
   "id": "afa46415-6d8f-4448-9e73-1fa5f0ec7416",
   "metadata": {},
   "outputs": [
    {
     "data": {
      "text/html": [
       "<div>\n",
       "<style scoped>\n",
       "    .dataframe tbody tr th:only-of-type {\n",
       "        vertical-align: middle;\n",
       "    }\n",
       "\n",
       "    .dataframe tbody tr th {\n",
       "        vertical-align: top;\n",
       "    }\n",
       "\n",
       "    .dataframe thead th {\n",
       "        text-align: right;\n",
       "    }\n",
       "</style>\n",
       "<table border=\"1\" class=\"dataframe\">\n",
       "  <thead>\n",
       "    <tr style=\"text-align: right;\">\n",
       "      <th></th>\n",
       "      <th>brand</th>\n",
       "      <th>category</th>\n",
       "      <th>pid</th>\n",
       "      <th>price</th>\n",
       "      <th>season</th>\n",
       "      <th>sku_size</th>\n",
       "      <th>subcategory</th>\n",
       "      <th>subsubcategory</th>\n",
       "    </tr>\n",
       "  </thead>\n",
       "  <tbody>\n",
       "    <tr>\n",
       "      <th>0</th>\n",
       "      <td>BlueRiver Co.</td>\n",
       "      <td>Formal Attire</td>\n",
       "      <td>b9c74f687ca55f2</td>\n",
       "      <td>74.57</td>\n",
       "      <td>Winter</td>\n",
       "      <td>46</td>\n",
       "      <td>Petite</td>\n",
       "      <td>Formal Set</td>\n",
       "    </tr>\n",
       "    <tr>\n",
       "      <th>1</th>\n",
       "      <td>BlueRiver Co.</td>\n",
       "      <td>Formal Attire</td>\n",
       "      <td>b9c74f687ca55f2</td>\n",
       "      <td>74.57</td>\n",
       "      <td>Winter</td>\n",
       "      <td>50</td>\n",
       "      <td>Petite</td>\n",
       "      <td>Formal Set</td>\n",
       "    </tr>\n",
       "    <tr>\n",
       "      <th>2</th>\n",
       "      <td>BlueRiver Co.</td>\n",
       "      <td>Formal Attire</td>\n",
       "      <td>b9c74f687ca55f2</td>\n",
       "      <td>74.57</td>\n",
       "      <td>Winter</td>\n",
       "      <td>52</td>\n",
       "      <td>Petite</td>\n",
       "      <td>Formal Set</td>\n",
       "    </tr>\n",
       "    <tr>\n",
       "      <th>3</th>\n",
       "      <td>BlueRiver Co.</td>\n",
       "      <td>Formal Attire</td>\n",
       "      <td>b9c74f687ca55f2</td>\n",
       "      <td>74.57</td>\n",
       "      <td>Winter</td>\n",
       "      <td>54</td>\n",
       "      <td>Petite</td>\n",
       "      <td>Formal Set</td>\n",
       "    </tr>\n",
       "    <tr>\n",
       "      <th>4</th>\n",
       "      <td>BlueRiver Co.</td>\n",
       "      <td>Formal Attire</td>\n",
       "      <td>b9c74f687ca55f2</td>\n",
       "      <td>74.58</td>\n",
       "      <td>Winter</td>\n",
       "      <td>48</td>\n",
       "      <td>Petite</td>\n",
       "      <td>Formal Set</td>\n",
       "    </tr>\n",
       "  </tbody>\n",
       "</table>\n",
       "</div>"
      ],
      "text/plain": [
       "           brand       category              pid  price  season sku_size  \\\n",
       "0  BlueRiver Co.  Formal Attire  b9c74f687ca55f2  74.57  Winter     46     \n",
       "1  BlueRiver Co.  Formal Attire  b9c74f687ca55f2  74.57  Winter     50     \n",
       "2  BlueRiver Co.  Formal Attire  b9c74f687ca55f2  74.57  Winter     52     \n",
       "3  BlueRiver Co.  Formal Attire  b9c74f687ca55f2  74.57  Winter     54     \n",
       "4  BlueRiver Co.  Formal Attire  b9c74f687ca55f2  74.58  Winter     48     \n",
       "\n",
       "  subcategory subsubcategory  \n",
       "0      Petite     Formal Set  \n",
       "1      Petite     Formal Set  \n",
       "2      Petite     Formal Set  \n",
       "3      Petite     Formal Set  \n",
       "4      Petite     Formal Set  "
      ]
     },
     "execution_count": 301,
     "metadata": {},
     "output_type": "execute_result"
    }
   ],
   "source": [
    "products.head()"
   ]
  },
  {
   "cell_type": "code",
   "execution_count": 302,
   "id": "e4faf9ce-ddba-43c6-ba40-f5f4a2c0d135",
   "metadata": {},
   "outputs": [
    {
     "name": "stdout",
     "output_type": "stream",
     "text": [
      "before: 742\n",
      "after: 0\n"
     ]
    }
   ],
   "source": [
    "# replace nan with other\n",
    "print('before:',products['brand'].isna().sum())\n",
    "products['brand'] = products['brand'].fillna('others')\n",
    "print('after:',products['brand'].isna().sum())"
   ]
  },
  {
   "cell_type": "code",
   "execution_count": 303,
   "id": "226b006c-23be-4067-bcda-e275818889b0",
   "metadata": {},
   "outputs": [
    {
     "data": {
      "text/html": [
       "<div>\n",
       "<style scoped>\n",
       "    .dataframe tbody tr th:only-of-type {\n",
       "        vertical-align: middle;\n",
       "    }\n",
       "\n",
       "    .dataframe tbody tr th {\n",
       "        vertical-align: top;\n",
       "    }\n",
       "\n",
       "    .dataframe thead th {\n",
       "        text-align: right;\n",
       "    }\n",
       "</style>\n",
       "<table border=\"1\" class=\"dataframe\">\n",
       "  <thead>\n",
       "    <tr style=\"text-align: right;\">\n",
       "      <th></th>\n",
       "      <th>brand</th>\n",
       "      <th>category</th>\n",
       "      <th>pid</th>\n",
       "      <th>price</th>\n",
       "      <th>season</th>\n",
       "      <th>sku_size</th>\n",
       "      <th>subcategory</th>\n",
       "      <th>subsubcategory</th>\n",
       "    </tr>\n",
       "  </thead>\n",
       "  <tbody>\n",
       "    <tr>\n",
       "      <th>0</th>\n",
       "      <td>BlueRiver Co.</td>\n",
       "      <td>Formal Attire</td>\n",
       "      <td>b9c74f687ca55f2</td>\n",
       "      <td>74.57</td>\n",
       "      <td>Winter</td>\n",
       "      <td>46</td>\n",
       "      <td>Petite</td>\n",
       "      <td>Formal Set</td>\n",
       "    </tr>\n",
       "    <tr>\n",
       "      <th>1</th>\n",
       "      <td>BlueRiver Co.</td>\n",
       "      <td>Formal Attire</td>\n",
       "      <td>b9c74f687ca55f2</td>\n",
       "      <td>74.57</td>\n",
       "      <td>Winter</td>\n",
       "      <td>50</td>\n",
       "      <td>Petite</td>\n",
       "      <td>Formal Set</td>\n",
       "    </tr>\n",
       "    <tr>\n",
       "      <th>2</th>\n",
       "      <td>BlueRiver Co.</td>\n",
       "      <td>Formal Attire</td>\n",
       "      <td>b9c74f687ca55f2</td>\n",
       "      <td>74.57</td>\n",
       "      <td>Winter</td>\n",
       "      <td>52</td>\n",
       "      <td>Petite</td>\n",
       "      <td>Formal Set</td>\n",
       "    </tr>\n",
       "    <tr>\n",
       "      <th>3</th>\n",
       "      <td>BlueRiver Co.</td>\n",
       "      <td>Formal Attire</td>\n",
       "      <td>b9c74f687ca55f2</td>\n",
       "      <td>74.57</td>\n",
       "      <td>Winter</td>\n",
       "      <td>54</td>\n",
       "      <td>Petite</td>\n",
       "      <td>Formal Set</td>\n",
       "    </tr>\n",
       "    <tr>\n",
       "      <th>4</th>\n",
       "      <td>BlueRiver Co.</td>\n",
       "      <td>Formal Attire</td>\n",
       "      <td>b9c74f687ca55f2</td>\n",
       "      <td>74.58</td>\n",
       "      <td>Winter</td>\n",
       "      <td>48</td>\n",
       "      <td>Petite</td>\n",
       "      <td>Formal Set</td>\n",
       "    </tr>\n",
       "  </tbody>\n",
       "</table>\n",
       "</div>"
      ],
      "text/plain": [
       "           brand       category              pid  price  season sku_size  \\\n",
       "0  BlueRiver Co.  Formal Attire  b9c74f687ca55f2  74.57  Winter     46     \n",
       "1  BlueRiver Co.  Formal Attire  b9c74f687ca55f2  74.57  Winter     50     \n",
       "2  BlueRiver Co.  Formal Attire  b9c74f687ca55f2  74.57  Winter     52     \n",
       "3  BlueRiver Co.  Formal Attire  b9c74f687ca55f2  74.57  Winter     54     \n",
       "4  BlueRiver Co.  Formal Attire  b9c74f687ca55f2  74.58  Winter     48     \n",
       "\n",
       "  subcategory subsubcategory  \n",
       "0      Petite     Formal Set  \n",
       "1      Petite     Formal Set  \n",
       "2      Petite     Formal Set  \n",
       "3      Petite     Formal Set  \n",
       "4      Petite     Formal Set  "
      ]
     },
     "execution_count": 303,
     "metadata": {},
     "output_type": "execute_result"
    }
   ],
   "source": [
    "# replace '' with other\n",
    "products['brand'] = products['brand'].apply(lambda x:'others' if x=='' else x)\n",
    "products.head()"
   ]
  },
  {
   "cell_type": "code",
   "execution_count": 304,
   "id": "54015c54-877e-41a5-9dbe-2e18d2cd0c59",
   "metadata": {},
   "outputs": [
    {
     "data": {
      "text/plain": [
       "['ArcAngel',\n",
       " 'AzureMeat',\n",
       " 'AzureStone',\n",
       " 'AzureWorks',\n",
       " 'BertWear',\n",
       " 'BigStone',\n",
       " 'Blend&Woven',\n",
       " 'BlueRidge',\n",
       " 'BlueRiver Co.',\n",
       " 'BoxMix',\n",
       " 'BuilderStyles',\n",
       " 'CanvasCraft',\n",
       " 'ChillCube',\n",
       " 'CityBrief',\n",
       " 'CloudNine',\n",
       " 'CoralAndFin',\n",
       " 'CoralTrend',\n",
       " 'DarkHarbor',\n",
       " 'DocMan',\n",
       " 'DotDash',\n",
       " 'EchoStyles',\n",
       " 'FlashBack',\n",
       " 'FlatField',\n",
       " 'ForestFoot',\n",
       " 'FrontlineStyles',\n",
       " 'FuelThreads',\n",
       " 'GateStyles',\n",
       " 'GeoStyles',\n",
       " 'HarborTrend',\n",
       " 'HatMasters',\n",
       " 'HighClass',\n",
       " 'IslandLife',\n",
       " 'IsleWear',\n",
       " 'IvyCraft',\n",
       " 'KickStar',\n",
       " 'LakeStyles',\n",
       " 'LookSee',\n",
       " 'LunarLuxe',\n",
       " 'MeadowMaster',\n",
       " 'MetalMold',\n",
       " 'MetroMaven',\n",
       " 'MoonWear',\n",
       " 'MysticLoaf',\n",
       " 'NordicFit',\n",
       " 'NullLabel',\n",
       " 'OceanSketch Elite',\n",
       " 'OldVine Styles',\n",
       " 'OliveSlate',\n",
       " 'OrchardM',\n",
       " 'PeakStyles',\n",
       " 'PedalPrime',\n",
       " 'PineAndFern',\n",
       " 'PlaidCrafters',\n",
       " 'PureDenim',\n",
       " 'PuzzleWear',\n",
       " 'RavenBeach',\n",
       " 'RavenRock',\n",
       " 'RefreshStyles',\n",
       " 'ReinStyles',\n",
       " 'RhythmWear',\n",
       " 'RosePath',\n",
       " 'SilkLeaf',\n",
       " 'SkyGuard',\n",
       " 'SkyWing',\n",
       " 'Skyward',\n",
       " 'SnowPeak',\n",
       " 'SoftTrend',\n",
       " 'SpeedThreads',\n",
       " 'StarHub Threads',\n",
       " 'StreamStride',\n",
       " 'TargetStyles',\n",
       " 'TimelessMan',\n",
       " 'TulipTread',\n",
       " 'TurboTrend',\n",
       " 'UrbanAce',\n",
       " 'UrbanZen',\n",
       " 'VisionMakers',\n",
       " 'VolcanoWear',\n",
       " 'WillowWalk',\n",
       " 'WineThread',\n",
       " 'WitchHazel',\n",
       " 'WorldSight',\n",
       " 'ZenithMan',\n",
       " 'others']"
      ]
     },
     "execution_count": 304,
     "metadata": {},
     "output_type": "execute_result"
    }
   ],
   "source": [
    "unique_brand = products['brand'].unique()\n",
    "sort_brand = [str(item) for item in unique_brand ]\n",
    "sort_brand.sort()\n",
    "sort_brand"
   ]
  },
  {
   "cell_type": "markdown",
   "id": "2624d980-3301-49b0-beff-84b9c9fe9547",
   "metadata": {},
   "source": [
    "### 1.4 sku_size\t"
   ]
  },
  {
   "cell_type": "code",
   "execution_count": 305,
   "id": "927b102a-1b01-411a-bd2d-1cd7e936564b",
   "metadata": {},
   "outputs": [
    {
     "data": {
      "text/plain": [
       "array(['  46  ', '  50  ', '  52  ', '  54  ', '  48  ', '  56  ', nan,\n",
       "       '  26  ', '  25  ', '  27  ', '  M  ', '  28  ', '  58  ',\n",
       "       '  24  ', '  0  ', '  1  ', '  XL  ', '  S  ', '  L  ', '  XXL  ',\n",
       "       '  XXXL  ', '  60  ', '  4XL  ', '  2XL  ', '  3XL  ', '  XS  ',\n",
       "       '  7  ', '  4  ', '  5  ', '  3  ', '  6  ', '  41  ', '  44  ',\n",
       "       '  43  ', '  45  ', '  42  ', '  40  ', '  10  ', '  9  ',\n",
       "       '  11  ', '  12  ', '  8  ', '  8,5  ', '  9,5  ', '  10,5  ',\n",
       "       '  7,5  ', '  6,5  ', '  32/34  ', '  31/34  ', '  36/34  ',\n",
       "       '  33/34  ', '  34/34  ', '  36/32  ', '  31/32  ', '  34/36  ',\n",
       "       '  40/32  ', '  38/30  ', '  36/36  ', '  36/30  ', '  32/32  ',\n",
       "       '  34/32  ', '  38/34  ', '  33/32  ', '  34/30  ', '  35/34  ',\n",
       "       '  38/32  ', '  30/32  ', '  29/32  ', '  30/34  ', '  28/32  ',\n",
       "       '  29/34  ', '  33/30  ', '  40/34  ', '  38/36  ', '  33/36  ',\n",
       "       '  42/32  ', '  35/32  ', '  32/36  ', '  42/34  ', '  30  ',\n",
       "       '  31  ', '  33  ', '  36  ', '  32  ', '  34  ', '  35  ',\n",
       "       '  35/36  ', '  102  ', '  98  ', '  32/30  ', '  31/30  ',\n",
       "       '  30/30  ', '  31/36  ', '  106  ', '  28/34  ', '  38  ',\n",
       "       '  35/30  ', '  40/36  ', '  28/30  ', '  29/30  ', '  29  ',\n",
       "       '  44/34  ', '  44/32  ', '  38/38  ', '  40/38  ', '  32/38  ',\n",
       "       '  33/38  ', '  35/38  ', '  36/38  ', '  34/38  ', '  GEEN  ',\n",
       "       '  4146  ', '  3942  ', '  4346  ', '  114  ', '  13  ', '  37  ',\n",
       "       '  39  ', '  61  ', '  59  ', '  57  ', '  47  ', '  11,5  ',\n",
       "       '  49  ', '  80  ', '  100  ', '  95  ', '  105  ', '  110  ',\n",
       "       '  90  ', '  85  ', '  115  ', '  XL/XXL  ', '  12,5  ', '  94  '],\n",
       "      dtype=object)"
      ]
     },
     "execution_count": 305,
     "metadata": {},
     "output_type": "execute_result"
    }
   ],
   "source": [
    "products['sku_size'].unique()"
   ]
  },
  {
   "cell_type": "markdown",
   "id": "b88838c3-a129-45fb-b0db-d122e4f3e05d",
   "metadata": {},
   "source": [
    "#### create two feature for size first number of size each pid have then type of size"
   ]
  },
  {
   "cell_type": "code",
   "execution_count": 306,
   "id": "8f2f136f-8dd6-45af-8f37-d622a691aefe",
   "metadata": {},
   "outputs": [
    {
     "data": {
      "text/html": [
       "<div>\n",
       "<style scoped>\n",
       "    .dataframe tbody tr th:only-of-type {\n",
       "        vertical-align: middle;\n",
       "    }\n",
       "\n",
       "    .dataframe tbody tr th {\n",
       "        vertical-align: top;\n",
       "    }\n",
       "\n",
       "    .dataframe thead th {\n",
       "        text-align: right;\n",
       "    }\n",
       "</style>\n",
       "<table border=\"1\" class=\"dataframe\">\n",
       "  <thead>\n",
       "    <tr style=\"text-align: right;\">\n",
       "      <th></th>\n",
       "      <th>pid</th>\n",
       "      <th>size_count</th>\n",
       "    </tr>\n",
       "  </thead>\n",
       "  <tbody>\n",
       "    <tr>\n",
       "      <th>0</th>\n",
       "      <td>00018645b311291</td>\n",
       "      <td>1</td>\n",
       "    </tr>\n",
       "    <tr>\n",
       "      <th>1</th>\n",
       "      <td>0002c09028f0997</td>\n",
       "      <td>4</td>\n",
       "    </tr>\n",
       "    <tr>\n",
       "      <th>2</th>\n",
       "      <td>000d60c255ea40d</td>\n",
       "      <td>1</td>\n",
       "    </tr>\n",
       "    <tr>\n",
       "      <th>3</th>\n",
       "      <td>0012b783cc24610</td>\n",
       "      <td>5</td>\n",
       "    </tr>\n",
       "    <tr>\n",
       "      <th>4</th>\n",
       "      <td>00184a25beb0581</td>\n",
       "      <td>11</td>\n",
       "    </tr>\n",
       "  </tbody>\n",
       "</table>\n",
       "</div>"
      ],
      "text/plain": [
       "               pid  size_count\n",
       "0  00018645b311291           1\n",
       "1  0002c09028f0997           4\n",
       "2  000d60c255ea40d           1\n",
       "3  0012b783cc24610           5\n",
       "4  00184a25beb0581          11"
      ]
     },
     "execution_count": 306,
     "metadata": {},
     "output_type": "execute_result"
    }
   ],
   "source": [
    "# count the number of size for each pid\n",
    "pid_size_number = products.groupby('pid')['sku_size'].count()\n",
    "pid_size_number = pd.DataFrame(pid_size_number).reset_index()\n",
    "pid_size_number.columns=['pid','size_count']\n",
    "pid_size_number.head()"
   ]
  },
  {
   "cell_type": "code",
   "execution_count": 307,
   "id": "9816fba3-bf1f-42d6-ab1f-f1037772a7ab",
   "metadata": {},
   "outputs": [
    {
     "data": {
      "text/plain": [
       "(13024, 2)"
      ]
     },
     "execution_count": 307,
     "metadata": {},
     "output_type": "execute_result"
    }
   ],
   "source": [
    "pid_size_number.shape"
   ]
  },
  {
   "cell_type": "code",
   "execution_count": 308,
   "id": "2adc551f-29c6-4933-8ae0-1b989cd32129",
   "metadata": {},
   "outputs": [
    {
     "data": {
      "text/html": [
       "<div>\n",
       "<style scoped>\n",
       "    .dataframe tbody tr th:only-of-type {\n",
       "        vertical-align: middle;\n",
       "    }\n",
       "\n",
       "    .dataframe tbody tr th {\n",
       "        vertical-align: top;\n",
       "    }\n",
       "\n",
       "    .dataframe thead th {\n",
       "        text-align: right;\n",
       "    }\n",
       "</style>\n",
       "<table border=\"1\" class=\"dataframe\">\n",
       "  <thead>\n",
       "    <tr style=\"text-align: right;\">\n",
       "      <th></th>\n",
       "      <th>brand</th>\n",
       "      <th>category</th>\n",
       "      <th>pid</th>\n",
       "      <th>price</th>\n",
       "      <th>season</th>\n",
       "      <th>sku_size</th>\n",
       "      <th>subcategory</th>\n",
       "      <th>subsubcategory</th>\n",
       "    </tr>\n",
       "  </thead>\n",
       "  <tbody>\n",
       "    <tr>\n",
       "      <th>10618</th>\n",
       "      <td>Blend&amp;Woven</td>\n",
       "      <td>Trousers</td>\n",
       "      <td>00184a25beb0581</td>\n",
       "      <td>57.44</td>\n",
       "      <td>Winter</td>\n",
       "      <td>29/32</td>\n",
       "      <td>Adult</td>\n",
       "      <td>Blue Threads</td>\n",
       "    </tr>\n",
       "    <tr>\n",
       "      <th>10619</th>\n",
       "      <td>Blend&amp;Woven</td>\n",
       "      <td>Trousers</td>\n",
       "      <td>00184a25beb0581</td>\n",
       "      <td>57.44</td>\n",
       "      <td>Winter</td>\n",
       "      <td>31/34</td>\n",
       "      <td>Adult</td>\n",
       "      <td>Blue Threads</td>\n",
       "    </tr>\n",
       "    <tr>\n",
       "      <th>10620</th>\n",
       "      <td>Blend&amp;Woven</td>\n",
       "      <td>Trousers</td>\n",
       "      <td>00184a25beb0581</td>\n",
       "      <td>57.45</td>\n",
       "      <td>Winter</td>\n",
       "      <td>34/32</td>\n",
       "      <td>Adult</td>\n",
       "      <td>Blue Threads</td>\n",
       "    </tr>\n",
       "    <tr>\n",
       "      <th>10621</th>\n",
       "      <td>Blend&amp;Woven</td>\n",
       "      <td>Trousers</td>\n",
       "      <td>00184a25beb0581</td>\n",
       "      <td>57.45</td>\n",
       "      <td>Winter</td>\n",
       "      <td>36/34</td>\n",
       "      <td>Adult</td>\n",
       "      <td>Blue Threads</td>\n",
       "    </tr>\n",
       "    <tr>\n",
       "      <th>10622</th>\n",
       "      <td>Blend&amp;Woven</td>\n",
       "      <td>Trousers</td>\n",
       "      <td>00184a25beb0581</td>\n",
       "      <td>57.44</td>\n",
       "      <td>Winter</td>\n",
       "      <td>32/34</td>\n",
       "      <td>Adult</td>\n",
       "      <td>Blue Threads</td>\n",
       "    </tr>\n",
       "    <tr>\n",
       "      <th>10623</th>\n",
       "      <td>Blend&amp;Woven</td>\n",
       "      <td>Trousers</td>\n",
       "      <td>00184a25beb0581</td>\n",
       "      <td>57.45</td>\n",
       "      <td>Winter</td>\n",
       "      <td>32/32</td>\n",
       "      <td>Adult</td>\n",
       "      <td>Blue Threads</td>\n",
       "    </tr>\n",
       "    <tr>\n",
       "      <th>10624</th>\n",
       "      <td>Blend&amp;Woven</td>\n",
       "      <td>Trousers</td>\n",
       "      <td>00184a25beb0581</td>\n",
       "      <td>57.45</td>\n",
       "      <td>Winter</td>\n",
       "      <td>33/32</td>\n",
       "      <td>Adult</td>\n",
       "      <td>Blue Threads</td>\n",
       "    </tr>\n",
       "    <tr>\n",
       "      <th>10625</th>\n",
       "      <td>Blend&amp;Woven</td>\n",
       "      <td>Trousers</td>\n",
       "      <td>00184a25beb0581</td>\n",
       "      <td>57.44</td>\n",
       "      <td>Winter</td>\n",
       "      <td>33/34</td>\n",
       "      <td>Adult</td>\n",
       "      <td>Blue Threads</td>\n",
       "    </tr>\n",
       "    <tr>\n",
       "      <th>10626</th>\n",
       "      <td>Blend&amp;Woven</td>\n",
       "      <td>Trousers</td>\n",
       "      <td>00184a25beb0581</td>\n",
       "      <td>57.45</td>\n",
       "      <td>Winter</td>\n",
       "      <td>31/32</td>\n",
       "      <td>Adult</td>\n",
       "      <td>Blue Threads</td>\n",
       "    </tr>\n",
       "    <tr>\n",
       "      <th>10627</th>\n",
       "      <td>Blend&amp;Woven</td>\n",
       "      <td>Trousers</td>\n",
       "      <td>00184a25beb0581</td>\n",
       "      <td>57.44</td>\n",
       "      <td>Winter</td>\n",
       "      <td>34/34</td>\n",
       "      <td>Adult</td>\n",
       "      <td>Blue Threads</td>\n",
       "    </tr>\n",
       "    <tr>\n",
       "      <th>10628</th>\n",
       "      <td>Blend&amp;Woven</td>\n",
       "      <td>Trousers</td>\n",
       "      <td>00184a25beb0581</td>\n",
       "      <td>57.44</td>\n",
       "      <td>Winter</td>\n",
       "      <td>30/32</td>\n",
       "      <td>Adult</td>\n",
       "      <td>Blue Threads</td>\n",
       "    </tr>\n",
       "  </tbody>\n",
       "</table>\n",
       "</div>"
      ],
      "text/plain": [
       "             brand  category              pid  price  season   sku_size  \\\n",
       "10618  Blend&Woven  Trousers  00184a25beb0581  57.44  Winter    29/32     \n",
       "10619  Blend&Woven  Trousers  00184a25beb0581  57.44  Winter    31/34     \n",
       "10620  Blend&Woven  Trousers  00184a25beb0581  57.45  Winter    34/32     \n",
       "10621  Blend&Woven  Trousers  00184a25beb0581  57.45  Winter    36/34     \n",
       "10622  Blend&Woven  Trousers  00184a25beb0581  57.44  Winter    32/34     \n",
       "10623  Blend&Woven  Trousers  00184a25beb0581  57.45  Winter    32/32     \n",
       "10624  Blend&Woven  Trousers  00184a25beb0581  57.45  Winter    33/32     \n",
       "10625  Blend&Woven  Trousers  00184a25beb0581  57.44  Winter    33/34     \n",
       "10626  Blend&Woven  Trousers  00184a25beb0581  57.45  Winter    31/32     \n",
       "10627  Blend&Woven  Trousers  00184a25beb0581  57.44  Winter    34/34     \n",
       "10628  Blend&Woven  Trousers  00184a25beb0581  57.44  Winter    30/32     \n",
       "\n",
       "      subcategory subsubcategory  \n",
       "10618       Adult   Blue Threads  \n",
       "10619       Adult   Blue Threads  \n",
       "10620       Adult   Blue Threads  \n",
       "10621       Adult   Blue Threads  \n",
       "10622       Adult   Blue Threads  \n",
       "10623       Adult   Blue Threads  \n",
       "10624       Adult   Blue Threads  \n",
       "10625       Adult   Blue Threads  \n",
       "10626       Adult   Blue Threads  \n",
       "10627       Adult   Blue Threads  \n",
       "10628       Adult   Blue Threads  "
      ]
     },
     "execution_count": 308,
     "metadata": {},
     "output_type": "execute_result"
    }
   ],
   "source": [
    "# check one of them \n",
    "products[products['pid']=='00184a25beb0581']"
   ]
  },
  {
   "cell_type": "code",
   "execution_count": 309,
   "id": "a33a6526-58d3-4046-b46f-66fb5dd3f805",
   "metadata": {},
   "outputs": [],
   "source": [
    "products = pd.merge(products,pid_size_number,on='pid')"
   ]
  },
  {
   "cell_type": "code",
   "execution_count": 310,
   "id": "a07fb8a4-8359-4d9d-8acd-7f8ee7e70cfb",
   "metadata": {},
   "outputs": [
    {
     "data": {
      "text/html": [
       "<div>\n",
       "<style scoped>\n",
       "    .dataframe tbody tr th:only-of-type {\n",
       "        vertical-align: middle;\n",
       "    }\n",
       "\n",
       "    .dataframe tbody tr th {\n",
       "        vertical-align: top;\n",
       "    }\n",
       "\n",
       "    .dataframe thead th {\n",
       "        text-align: right;\n",
       "    }\n",
       "</style>\n",
       "<table border=\"1\" class=\"dataframe\">\n",
       "  <thead>\n",
       "    <tr style=\"text-align: right;\">\n",
       "      <th></th>\n",
       "      <th>brand</th>\n",
       "      <th>category</th>\n",
       "      <th>pid</th>\n",
       "      <th>price</th>\n",
       "      <th>season</th>\n",
       "      <th>sku_size</th>\n",
       "      <th>subcategory</th>\n",
       "      <th>subsubcategory</th>\n",
       "      <th>size_count</th>\n",
       "    </tr>\n",
       "  </thead>\n",
       "  <tbody>\n",
       "    <tr>\n",
       "      <th>0</th>\n",
       "      <td>BlueRiver Co.</td>\n",
       "      <td>Formal Attire</td>\n",
       "      <td>b9c74f687ca55f2</td>\n",
       "      <td>74.57</td>\n",
       "      <td>Winter</td>\n",
       "      <td>46</td>\n",
       "      <td>Petite</td>\n",
       "      <td>Formal Set</td>\n",
       "      <td>5</td>\n",
       "    </tr>\n",
       "    <tr>\n",
       "      <th>1</th>\n",
       "      <td>BlueRiver Co.</td>\n",
       "      <td>Formal Attire</td>\n",
       "      <td>b9c74f687ca55f2</td>\n",
       "      <td>74.57</td>\n",
       "      <td>Winter</td>\n",
       "      <td>50</td>\n",
       "      <td>Petite</td>\n",
       "      <td>Formal Set</td>\n",
       "      <td>5</td>\n",
       "    </tr>\n",
       "    <tr>\n",
       "      <th>2</th>\n",
       "      <td>BlueRiver Co.</td>\n",
       "      <td>Formal Attire</td>\n",
       "      <td>b9c74f687ca55f2</td>\n",
       "      <td>74.57</td>\n",
       "      <td>Winter</td>\n",
       "      <td>52</td>\n",
       "      <td>Petite</td>\n",
       "      <td>Formal Set</td>\n",
       "      <td>5</td>\n",
       "    </tr>\n",
       "    <tr>\n",
       "      <th>3</th>\n",
       "      <td>BlueRiver Co.</td>\n",
       "      <td>Formal Attire</td>\n",
       "      <td>b9c74f687ca55f2</td>\n",
       "      <td>74.57</td>\n",
       "      <td>Winter</td>\n",
       "      <td>54</td>\n",
       "      <td>Petite</td>\n",
       "      <td>Formal Set</td>\n",
       "      <td>5</td>\n",
       "    </tr>\n",
       "    <tr>\n",
       "      <th>4</th>\n",
       "      <td>BlueRiver Co.</td>\n",
       "      <td>Formal Attire</td>\n",
       "      <td>b9c74f687ca55f2</td>\n",
       "      <td>74.58</td>\n",
       "      <td>Winter</td>\n",
       "      <td>48</td>\n",
       "      <td>Petite</td>\n",
       "      <td>Formal Set</td>\n",
       "      <td>5</td>\n",
       "    </tr>\n",
       "  </tbody>\n",
       "</table>\n",
       "</div>"
      ],
      "text/plain": [
       "           brand       category              pid  price  season sku_size  \\\n",
       "0  BlueRiver Co.  Formal Attire  b9c74f687ca55f2  74.57  Winter     46     \n",
       "1  BlueRiver Co.  Formal Attire  b9c74f687ca55f2  74.57  Winter     50     \n",
       "2  BlueRiver Co.  Formal Attire  b9c74f687ca55f2  74.57  Winter     52     \n",
       "3  BlueRiver Co.  Formal Attire  b9c74f687ca55f2  74.57  Winter     54     \n",
       "4  BlueRiver Co.  Formal Attire  b9c74f687ca55f2  74.58  Winter     48     \n",
       "\n",
       "  subcategory subsubcategory  size_count  \n",
       "0      Petite     Formal Set           5  \n",
       "1      Petite     Formal Set           5  \n",
       "2      Petite     Formal Set           5  \n",
       "3      Petite     Formal Set           5  \n",
       "4      Petite     Formal Set           5  "
      ]
     },
     "execution_count": 310,
     "metadata": {},
     "output_type": "execute_result"
    }
   ],
   "source": [
    "products.head()"
   ]
  },
  {
   "cell_type": "code",
   "execution_count": 311,
   "id": "89d0d617-6839-40ba-a91f-8fa6a2384f76",
   "metadata": {},
   "outputs": [
    {
     "data": {
      "text/html": [
       "<div>\n",
       "<style scoped>\n",
       "    .dataframe tbody tr th:only-of-type {\n",
       "        vertical-align: middle;\n",
       "    }\n",
       "\n",
       "    .dataframe tbody tr th {\n",
       "        vertical-align: top;\n",
       "    }\n",
       "\n",
       "    .dataframe thead th {\n",
       "        text-align: right;\n",
       "    }\n",
       "</style>\n",
       "<table border=\"1\" class=\"dataframe\">\n",
       "  <thead>\n",
       "    <tr style=\"text-align: right;\">\n",
       "      <th></th>\n",
       "      <th>brand</th>\n",
       "      <th>category</th>\n",
       "      <th>pid</th>\n",
       "      <th>price</th>\n",
       "      <th>season</th>\n",
       "      <th>sku_size</th>\n",
       "      <th>subcategory</th>\n",
       "      <th>subsubcategory</th>\n",
       "      <th>size_count</th>\n",
       "    </tr>\n",
       "  </thead>\n",
       "  <tbody>\n",
       "    <tr>\n",
       "      <th>60138</th>\n",
       "      <td>DocMan</td>\n",
       "      <td>Button-Ups</td>\n",
       "      <td>9f8375909dbbd83</td>\n",
       "      <td>53.29</td>\n",
       "      <td>Summer</td>\n",
       "      <td>39</td>\n",
       "      <td>Adult</td>\n",
       "      <td>Stretched-Sleeve Shirt</td>\n",
       "      <td>7</td>\n",
       "    </tr>\n",
       "    <tr>\n",
       "      <th>60139</th>\n",
       "      <td>DocMan</td>\n",
       "      <td>Button-Ups</td>\n",
       "      <td>9f8375909dbbd83</td>\n",
       "      <td>53.30</td>\n",
       "      <td>Summer</td>\n",
       "      <td>42</td>\n",
       "      <td>Adult</td>\n",
       "      <td>Stretched-Sleeve Shirt</td>\n",
       "      <td>7</td>\n",
       "    </tr>\n",
       "    <tr>\n",
       "      <th>60140</th>\n",
       "      <td>DocMan</td>\n",
       "      <td>Button-Ups</td>\n",
       "      <td>9f8375909dbbd83</td>\n",
       "      <td>53.30</td>\n",
       "      <td>Summer</td>\n",
       "      <td>38</td>\n",
       "      <td>Adult</td>\n",
       "      <td>Stretched-Sleeve Shirt</td>\n",
       "      <td>7</td>\n",
       "    </tr>\n",
       "    <tr>\n",
       "      <th>60141</th>\n",
       "      <td>DocMan</td>\n",
       "      <td>Button-Ups</td>\n",
       "      <td>9f8375909dbbd83</td>\n",
       "      <td>53.32</td>\n",
       "      <td>Summer</td>\n",
       "      <td>41</td>\n",
       "      <td>Adult</td>\n",
       "      <td>Stretched-Sleeve Shirt</td>\n",
       "      <td>7</td>\n",
       "    </tr>\n",
       "    <tr>\n",
       "      <th>60142</th>\n",
       "      <td>DocMan</td>\n",
       "      <td>Button-Ups</td>\n",
       "      <td>9f8375909dbbd83</td>\n",
       "      <td>53.31</td>\n",
       "      <td>Summer</td>\n",
       "      <td>43</td>\n",
       "      <td>Adult</td>\n",
       "      <td>Stretched-Sleeve Shirt</td>\n",
       "      <td>7</td>\n",
       "    </tr>\n",
       "  </tbody>\n",
       "</table>\n",
       "</div>"
      ],
      "text/plain": [
       "        brand    category              pid  price  season sku_size  \\\n",
       "60138  DocMan  Button-Ups  9f8375909dbbd83  53.29  Summer     39     \n",
       "60139  DocMan  Button-Ups  9f8375909dbbd83  53.30  Summer     42     \n",
       "60140  DocMan  Button-Ups  9f8375909dbbd83  53.30  Summer     38     \n",
       "60141  DocMan  Button-Ups  9f8375909dbbd83  53.32  Summer     41     \n",
       "60142  DocMan  Button-Ups  9f8375909dbbd83  53.31  Summer     43     \n",
       "\n",
       "      subcategory          subsubcategory  size_count  \n",
       "60138       Adult  Stretched-Sleeve Shirt           7  \n",
       "60139       Adult  Stretched-Sleeve Shirt           7  \n",
       "60140       Adult  Stretched-Sleeve Shirt           7  \n",
       "60141       Adult  Stretched-Sleeve Shirt           7  \n",
       "60142       Adult  Stretched-Sleeve Shirt           7  "
      ]
     },
     "execution_count": 311,
     "metadata": {},
     "output_type": "execute_result"
    }
   ],
   "source": [
    "products.tail()"
   ]
  },
  {
   "cell_type": "code",
   "execution_count": 312,
   "id": "887f0fd1-6e38-4fb0-8880-fb2544724fb1",
   "metadata": {},
   "outputs": [
    {
     "data": {
      "text/html": [
       "<div>\n",
       "<style scoped>\n",
       "    .dataframe tbody tr th:only-of-type {\n",
       "        vertical-align: middle;\n",
       "    }\n",
       "\n",
       "    .dataframe tbody tr th {\n",
       "        vertical-align: top;\n",
       "    }\n",
       "\n",
       "    .dataframe thead th {\n",
       "        text-align: right;\n",
       "    }\n",
       "</style>\n",
       "<table border=\"1\" class=\"dataframe\">\n",
       "  <thead>\n",
       "    <tr style=\"text-align: right;\">\n",
       "      <th></th>\n",
       "      <th>pid</th>\n",
       "      <th>size_type</th>\n",
       "    </tr>\n",
       "  </thead>\n",
       "  <tbody>\n",
       "    <tr>\n",
       "      <th>0</th>\n",
       "      <td>00018645b311291</td>\n",
       "      <td>10,5</td>\n",
       "    </tr>\n",
       "    <tr>\n",
       "      <th>1</th>\n",
       "      <td>0002c09028f0997</td>\n",
       "      <td>M</td>\n",
       "    </tr>\n",
       "    <tr>\n",
       "      <th>2</th>\n",
       "      <td>000d60c255ea40d</td>\n",
       "      <td>115</td>\n",
       "    </tr>\n",
       "    <tr>\n",
       "      <th>3</th>\n",
       "      <td>0012b783cc24610</td>\n",
       "      <td>41</td>\n",
       "    </tr>\n",
       "    <tr>\n",
       "      <th>4</th>\n",
       "      <td>00184a25beb0581</td>\n",
       "      <td>29/32</td>\n",
       "    </tr>\n",
       "  </tbody>\n",
       "</table>\n",
       "</div>"
      ],
      "text/plain": [
       "               pid  size_type\n",
       "0  00018645b311291     10,5  \n",
       "1  0002c09028f0997        M  \n",
       "2  000d60c255ea40d      115  \n",
       "3  0012b783cc24610       41  \n",
       "4  00184a25beb0581    29/32  "
      ]
     },
     "execution_count": 312,
     "metadata": {},
     "output_type": "execute_result"
    }
   ],
   "source": [
    "#find type of pid \n",
    "pid_size_type = products.groupby('pid')['sku_size'].first()\n",
    "pid_size_type = pd.DataFrame(pid_size_type).reset_index()\n",
    "pid_size_type.columns=['pid','size_type']\n",
    "pid_size_type.head()"
   ]
  },
  {
   "cell_type": "code",
   "execution_count": 313,
   "id": "afa8b847-daf8-4a2a-af85-0ad33282f41a",
   "metadata": {},
   "outputs": [
    {
     "data": {
      "text/html": [
       "<div>\n",
       "<style scoped>\n",
       "    .dataframe tbody tr th:only-of-type {\n",
       "        vertical-align: middle;\n",
       "    }\n",
       "\n",
       "    .dataframe tbody tr th {\n",
       "        vertical-align: top;\n",
       "    }\n",
       "\n",
       "    .dataframe thead th {\n",
       "        text-align: right;\n",
       "    }\n",
       "</style>\n",
       "<table border=\"1\" class=\"dataframe\">\n",
       "  <thead>\n",
       "    <tr style=\"text-align: right;\">\n",
       "      <th></th>\n",
       "      <th>brand</th>\n",
       "      <th>category</th>\n",
       "      <th>pid</th>\n",
       "      <th>price</th>\n",
       "      <th>season</th>\n",
       "      <th>sku_size</th>\n",
       "      <th>subcategory</th>\n",
       "      <th>subsubcategory</th>\n",
       "      <th>size_count</th>\n",
       "      <th>size_type</th>\n",
       "    </tr>\n",
       "  </thead>\n",
       "  <tbody>\n",
       "    <tr>\n",
       "      <th>0</th>\n",
       "      <td>BlueRiver Co.</td>\n",
       "      <td>Formal Attire</td>\n",
       "      <td>b9c74f687ca55f2</td>\n",
       "      <td>74.57</td>\n",
       "      <td>Winter</td>\n",
       "      <td>46</td>\n",
       "      <td>Petite</td>\n",
       "      <td>Formal Set</td>\n",
       "      <td>5</td>\n",
       "      <td>46</td>\n",
       "    </tr>\n",
       "    <tr>\n",
       "      <th>1</th>\n",
       "      <td>BlueRiver Co.</td>\n",
       "      <td>Formal Attire</td>\n",
       "      <td>b9c74f687ca55f2</td>\n",
       "      <td>74.57</td>\n",
       "      <td>Winter</td>\n",
       "      <td>50</td>\n",
       "      <td>Petite</td>\n",
       "      <td>Formal Set</td>\n",
       "      <td>5</td>\n",
       "      <td>46</td>\n",
       "    </tr>\n",
       "    <tr>\n",
       "      <th>2</th>\n",
       "      <td>BlueRiver Co.</td>\n",
       "      <td>Formal Attire</td>\n",
       "      <td>b9c74f687ca55f2</td>\n",
       "      <td>74.57</td>\n",
       "      <td>Winter</td>\n",
       "      <td>52</td>\n",
       "      <td>Petite</td>\n",
       "      <td>Formal Set</td>\n",
       "      <td>5</td>\n",
       "      <td>46</td>\n",
       "    </tr>\n",
       "    <tr>\n",
       "      <th>3</th>\n",
       "      <td>BlueRiver Co.</td>\n",
       "      <td>Formal Attire</td>\n",
       "      <td>b9c74f687ca55f2</td>\n",
       "      <td>74.57</td>\n",
       "      <td>Winter</td>\n",
       "      <td>54</td>\n",
       "      <td>Petite</td>\n",
       "      <td>Formal Set</td>\n",
       "      <td>5</td>\n",
       "      <td>46</td>\n",
       "    </tr>\n",
       "    <tr>\n",
       "      <th>4</th>\n",
       "      <td>BlueRiver Co.</td>\n",
       "      <td>Formal Attire</td>\n",
       "      <td>b9c74f687ca55f2</td>\n",
       "      <td>74.58</td>\n",
       "      <td>Winter</td>\n",
       "      <td>48</td>\n",
       "      <td>Petite</td>\n",
       "      <td>Formal Set</td>\n",
       "      <td>5</td>\n",
       "      <td>46</td>\n",
       "    </tr>\n",
       "  </tbody>\n",
       "</table>\n",
       "</div>"
      ],
      "text/plain": [
       "           brand       category              pid  price  season sku_size  \\\n",
       "0  BlueRiver Co.  Formal Attire  b9c74f687ca55f2  74.57  Winter     46     \n",
       "1  BlueRiver Co.  Formal Attire  b9c74f687ca55f2  74.57  Winter     50     \n",
       "2  BlueRiver Co.  Formal Attire  b9c74f687ca55f2  74.57  Winter     52     \n",
       "3  BlueRiver Co.  Formal Attire  b9c74f687ca55f2  74.57  Winter     54     \n",
       "4  BlueRiver Co.  Formal Attire  b9c74f687ca55f2  74.58  Winter     48     \n",
       "\n",
       "  subcategory subsubcategory  size_count size_type  \n",
       "0      Petite     Formal Set           5      46    \n",
       "1      Petite     Formal Set           5      46    \n",
       "2      Petite     Formal Set           5      46    \n",
       "3      Petite     Formal Set           5      46    \n",
       "4      Petite     Formal Set           5      46    "
      ]
     },
     "execution_count": 313,
     "metadata": {},
     "output_type": "execute_result"
    }
   ],
   "source": [
    "products = pd.merge(products,pid_size_type,on='pid')\n",
    "products.head()"
   ]
  },
  {
   "cell_type": "code",
   "execution_count": 314,
   "id": "4fe7693e-e8ec-42b6-b7dd-3a2d1c5eecda",
   "metadata": {},
   "outputs": [],
   "source": [
    "#drop the sku-size \n",
    "products = products.drop(columns=['sku_size'])\n",
    "products = products.drop_duplicates()"
   ]
  },
  {
   "cell_type": "code",
   "execution_count": 315,
   "id": "7450920d-3cf1-45dc-b0ae-169c40ab29c1",
   "metadata": {},
   "outputs": [],
   "source": [
    "#keep just one row for each pid\n",
    "products = products.drop_duplicates()"
   ]
  },
  {
   "cell_type": "code",
   "execution_count": 316,
   "id": "7e21b2f2-bc43-4b5a-8229-4d2e7ce4a0e8",
   "metadata": {},
   "outputs": [
    {
     "data": {
      "text/html": [
       "<div>\n",
       "<style scoped>\n",
       "    .dataframe tbody tr th:only-of-type {\n",
       "        vertical-align: middle;\n",
       "    }\n",
       "\n",
       "    .dataframe tbody tr th {\n",
       "        vertical-align: top;\n",
       "    }\n",
       "\n",
       "    .dataframe thead th {\n",
       "        text-align: right;\n",
       "    }\n",
       "</style>\n",
       "<table border=\"1\" class=\"dataframe\">\n",
       "  <thead>\n",
       "    <tr style=\"text-align: right;\">\n",
       "      <th></th>\n",
       "      <th>brand</th>\n",
       "      <th>category</th>\n",
       "      <th>pid</th>\n",
       "      <th>price</th>\n",
       "      <th>season</th>\n",
       "      <th>subcategory</th>\n",
       "      <th>subsubcategory</th>\n",
       "      <th>size_count</th>\n",
       "      <th>size_type</th>\n",
       "    </tr>\n",
       "  </thead>\n",
       "  <tbody>\n",
       "    <tr>\n",
       "      <th>0</th>\n",
       "      <td>BlueRiver Co.</td>\n",
       "      <td>Formal Attire</td>\n",
       "      <td>b9c74f687ca55f2</td>\n",
       "      <td>74.57</td>\n",
       "      <td>Winter</td>\n",
       "      <td>Petite</td>\n",
       "      <td>Formal Set</td>\n",
       "      <td>5</td>\n",
       "      <td>46</td>\n",
       "    </tr>\n",
       "    <tr>\n",
       "      <th>4</th>\n",
       "      <td>BlueRiver Co.</td>\n",
       "      <td>Formal Attire</td>\n",
       "      <td>b9c74f687ca55f2</td>\n",
       "      <td>74.58</td>\n",
       "      <td>Winter</td>\n",
       "      <td>Petite</td>\n",
       "      <td>Formal Set</td>\n",
       "      <td>5</td>\n",
       "      <td>46</td>\n",
       "    </tr>\n",
       "    <tr>\n",
       "      <th>5</th>\n",
       "      <td>BlueRiver Co.</td>\n",
       "      <td>Formal Attire</td>\n",
       "      <td>db4e11720013c7e</td>\n",
       "      <td>74.57</td>\n",
       "      <td>Winter</td>\n",
       "      <td>Petite</td>\n",
       "      <td>Formal Set</td>\n",
       "      <td>6</td>\n",
       "      <td>50</td>\n",
       "    </tr>\n",
       "    <tr>\n",
       "      <th>9</th>\n",
       "      <td>BlueRiver Co.</td>\n",
       "      <td>Formal Attire</td>\n",
       "      <td>db4e11720013c7e</td>\n",
       "      <td>74.58</td>\n",
       "      <td>Winter</td>\n",
       "      <td>Petite</td>\n",
       "      <td>Formal Set</td>\n",
       "      <td>6</td>\n",
       "      <td>50</td>\n",
       "    </tr>\n",
       "    <tr>\n",
       "      <th>11</th>\n",
       "      <td>BlueRiver Co.</td>\n",
       "      <td>Formal Attire</td>\n",
       "      <td>24300ea1d6f9af3</td>\n",
       "      <td>75.72</td>\n",
       "      <td>Winter</td>\n",
       "      <td>Petite</td>\n",
       "      <td>Formal Set</td>\n",
       "      <td>6</td>\n",
       "      <td>50</td>\n",
       "    </tr>\n",
       "  </tbody>\n",
       "</table>\n",
       "</div>"
      ],
      "text/plain": [
       "            brand       category              pid  price  season subcategory  \\\n",
       "0   BlueRiver Co.  Formal Attire  b9c74f687ca55f2  74.57  Winter      Petite   \n",
       "4   BlueRiver Co.  Formal Attire  b9c74f687ca55f2  74.58  Winter      Petite   \n",
       "5   BlueRiver Co.  Formal Attire  db4e11720013c7e  74.57  Winter      Petite   \n",
       "9   BlueRiver Co.  Formal Attire  db4e11720013c7e  74.58  Winter      Petite   \n",
       "11  BlueRiver Co.  Formal Attire  24300ea1d6f9af3  75.72  Winter      Petite   \n",
       "\n",
       "   subsubcategory  size_count size_type  \n",
       "0      Formal Set           5      46    \n",
       "4      Formal Set           5      46    \n",
       "5      Formal Set           6      50    \n",
       "9      Formal Set           6      50    \n",
       "11     Formal Set           6      50    "
      ]
     },
     "execution_count": 316,
     "metadata": {},
     "output_type": "execute_result"
    }
   ],
   "source": [
    "products.head()"
   ]
  },
  {
   "cell_type": "code",
   "execution_count": 317,
   "id": "1b71cd71-e332-4af3-9eaf-c85b910c76ac",
   "metadata": {},
   "outputs": [
    {
     "name": "stdout",
     "output_type": "stream",
     "text": [
      "(28083, 9)\n"
     ]
    }
   ],
   "source": [
    "print(products.shape)"
   ]
  },
  {
   "cell_type": "code",
   "execution_count": 318,
   "id": "89f00859-4068-4d87-935d-323c8e4c0273",
   "metadata": {},
   "outputs": [
    {
     "data": {
      "text/plain": [
       "array(['  46  ', '  50  ', '  52  ', '  56  ', '  48  ', '  54  ',\n",
       "       '  M  ', '  27  ', '  0  ', '  1  ', '  XL  ', '  S  ', '  L  ',\n",
       "       '  XXL  ', '  XXXL  ', '  60  ', '  58  ', '  3XL  ', '  2XL  ',\n",
       "       '  7  ', '  4  ', '  4XL  ', '  XS  ', '  6  ', '  5  ', '  41  ',\n",
       "       '  42  ', '  45  ', '  43  ', '  44  ', '  10  ', '  8  ',\n",
       "       '  11  ', '  9  ', '  10,5  ', '  7,5  ', '  40  ', '  32/34  ',\n",
       "       '  36/32  ', '  34/36  ', '  32/32  ', '  33/32  ', '  34/32  ',\n",
       "       '  30/34  ', '  31/34  ', '  34/34  ', '  36/34  ', '  33/34  ',\n",
       "       '  38/34  ', '  36/30  ', '  31/32  ', '  30/32  ', '  25  ',\n",
       "       '  38/32  ', '  30  ', '  36  ', '  32  ', '  35/36  ',\n",
       "       '  29/34  ', '  29/32  ', '  32/30  ', '  33/36  ', '  28/34  ',\n",
       "       '  38  ', '  35  ', '  34  ', '  28  ', '  24  ', '  26  ',\n",
       "       '  35/30  ', '  32/36  ', '  31/30  ', '  31  ', '  40/32  ',\n",
       "       '  31/36  ', '  35/34  ', '  28/32  ', '  36/36  ', '  33  ',\n",
       "       '  28/30  ', '  44/34  ', '  35/32  ', '  42/32  ', '  33/30  ',\n",
       "       '  29/30  ', '  30/30  ', '  34/30  ', '  38/30  ', '  40/34  ',\n",
       "       None, '  29  ', '  GEEN  ', '  4146  ', '  3942  ', '  4346  ',\n",
       "       '  98  ', '  8,5  ', '  3  ', '  39  ', '  37  ', '  44/32  ',\n",
       "       '  38/38  ', '  61  ', '  59  ', '  57  ', '  102  ', '  9,5  ',\n",
       "       '  47  ', '  11,5  ', '  49  ', '  80  ', '  100  ', '  105  ',\n",
       "       '  95  ', '  110  ', '  90  ', '  115  ', '  85  ', '  12  ',\n",
       "       '  6,5  ', '  13  ', '  94  '], dtype=object)"
      ]
     },
     "execution_count": 318,
     "metadata": {},
     "output_type": "execute_result"
    }
   ],
   "source": [
    "products['size_type'].unique()"
   ]
  },
  {
   "cell_type": "code",
   "execution_count": 319,
   "id": "9b6fd51c-aeca-4ef6-ae4d-9781fa6307b7",
   "metadata": {},
   "outputs": [],
   "source": [
    "products['size_type'] = products['size_type'].apply(lambda x: x.strip() if isinstance(x, str) else x)"
   ]
  },
  {
   "cell_type": "code",
   "execution_count": 320,
   "id": "63d6e8e8-2309-4936-8b6e-408bafd6835f",
   "metadata": {},
   "outputs": [],
   "source": [
    "# convert it to 1 for str type and 0 for numbers\n",
    "str_type=['XL', 'S','L', 'XXL', 'XXXL', '60', '58', '3XL', '2XL', '4XL']\n",
    "products['size_type'] = products['size_type'].apply(lambda x: 1 if x in str_type else 0)"
   ]
  },
  {
   "cell_type": "code",
   "execution_count": 321,
   "id": "3a574e5c-66f7-45a7-85ed-84de3146078a",
   "metadata": {},
   "outputs": [
    {
     "data": {
      "text/plain": [
       "(28083, 9)"
      ]
     },
     "execution_count": 321,
     "metadata": {},
     "output_type": "execute_result"
    }
   ],
   "source": [
    "products.shape"
   ]
  },
  {
   "cell_type": "code",
   "execution_count": 322,
   "id": "ea249e7a-216d-434b-bd42-60993ec43648",
   "metadata": {},
   "outputs": [
    {
     "data": {
      "text/plain": [
       "(28083, 9)"
      ]
     },
     "execution_count": 322,
     "metadata": {},
     "output_type": "execute_result"
    }
   ],
   "source": [
    "# drop duplicate\n",
    "products= products.drop_duplicates()\n",
    "products.shape"
   ]
  },
  {
   "cell_type": "code",
   "execution_count": 323,
   "id": "e99c9863-eba3-43ed-a8c9-b8fdfc2a6c43",
   "metadata": {},
   "outputs": [
    {
     "data": {
      "text/html": [
       "<div>\n",
       "<style scoped>\n",
       "    .dataframe tbody tr th:only-of-type {\n",
       "        vertical-align: middle;\n",
       "    }\n",
       "\n",
       "    .dataframe tbody tr th {\n",
       "        vertical-align: top;\n",
       "    }\n",
       "\n",
       "    .dataframe thead th {\n",
       "        text-align: right;\n",
       "    }\n",
       "</style>\n",
       "<table border=\"1\" class=\"dataframe\">\n",
       "  <thead>\n",
       "    <tr style=\"text-align: right;\">\n",
       "      <th></th>\n",
       "      <th>brand</th>\n",
       "      <th>category</th>\n",
       "      <th>pid</th>\n",
       "      <th>price</th>\n",
       "      <th>season</th>\n",
       "      <th>subcategory</th>\n",
       "      <th>subsubcategory</th>\n",
       "      <th>size_count</th>\n",
       "      <th>size_type</th>\n",
       "    </tr>\n",
       "  </thead>\n",
       "  <tbody>\n",
       "    <tr>\n",
       "      <th>0</th>\n",
       "      <td>BlueRiver Co.</td>\n",
       "      <td>Formal Attire</td>\n",
       "      <td>b9c74f687ca55f2</td>\n",
       "      <td>74.57</td>\n",
       "      <td>Winter</td>\n",
       "      <td>Petite</td>\n",
       "      <td>Formal Set</td>\n",
       "      <td>5</td>\n",
       "      <td>0</td>\n",
       "    </tr>\n",
       "    <tr>\n",
       "      <th>4</th>\n",
       "      <td>BlueRiver Co.</td>\n",
       "      <td>Formal Attire</td>\n",
       "      <td>b9c74f687ca55f2</td>\n",
       "      <td>74.58</td>\n",
       "      <td>Winter</td>\n",
       "      <td>Petite</td>\n",
       "      <td>Formal Set</td>\n",
       "      <td>5</td>\n",
       "      <td>0</td>\n",
       "    </tr>\n",
       "    <tr>\n",
       "      <th>5</th>\n",
       "      <td>BlueRiver Co.</td>\n",
       "      <td>Formal Attire</td>\n",
       "      <td>db4e11720013c7e</td>\n",
       "      <td>74.57</td>\n",
       "      <td>Winter</td>\n",
       "      <td>Petite</td>\n",
       "      <td>Formal Set</td>\n",
       "      <td>6</td>\n",
       "      <td>0</td>\n",
       "    </tr>\n",
       "    <tr>\n",
       "      <th>9</th>\n",
       "      <td>BlueRiver Co.</td>\n",
       "      <td>Formal Attire</td>\n",
       "      <td>db4e11720013c7e</td>\n",
       "      <td>74.58</td>\n",
       "      <td>Winter</td>\n",
       "      <td>Petite</td>\n",
       "      <td>Formal Set</td>\n",
       "      <td>6</td>\n",
       "      <td>0</td>\n",
       "    </tr>\n",
       "    <tr>\n",
       "      <th>11</th>\n",
       "      <td>BlueRiver Co.</td>\n",
       "      <td>Formal Attire</td>\n",
       "      <td>24300ea1d6f9af3</td>\n",
       "      <td>75.72</td>\n",
       "      <td>Winter</td>\n",
       "      <td>Petite</td>\n",
       "      <td>Formal Set</td>\n",
       "      <td>6</td>\n",
       "      <td>0</td>\n",
       "    </tr>\n",
       "  </tbody>\n",
       "</table>\n",
       "</div>"
      ],
      "text/plain": [
       "            brand       category              pid  price  season subcategory  \\\n",
       "0   BlueRiver Co.  Formal Attire  b9c74f687ca55f2  74.57  Winter      Petite   \n",
       "4   BlueRiver Co.  Formal Attire  b9c74f687ca55f2  74.58  Winter      Petite   \n",
       "5   BlueRiver Co.  Formal Attire  db4e11720013c7e  74.57  Winter      Petite   \n",
       "9   BlueRiver Co.  Formal Attire  db4e11720013c7e  74.58  Winter      Petite   \n",
       "11  BlueRiver Co.  Formal Attire  24300ea1d6f9af3  75.72  Winter      Petite   \n",
       "\n",
       "   subsubcategory  size_count  size_type  \n",
       "0      Formal Set           5          0  \n",
       "4      Formal Set           5          0  \n",
       "5      Formal Set           6          0  \n",
       "9      Formal Set           6          0  \n",
       "11     Formal Set           6          0  "
      ]
     },
     "execution_count": 323,
     "metadata": {},
     "output_type": "execute_result"
    }
   ],
   "source": [
    "products.head()"
   ]
  },
  {
   "cell_type": "code",
   "execution_count": 324,
   "id": "ccbee1e6-ef22-4c21-bd7d-7b6721d85e2f",
   "metadata": {},
   "outputs": [
    {
     "data": {
      "text/html": [
       "<div>\n",
       "<style scoped>\n",
       "    .dataframe tbody tr th:only-of-type {\n",
       "        vertical-align: middle;\n",
       "    }\n",
       "\n",
       "    .dataframe tbody tr th {\n",
       "        vertical-align: top;\n",
       "    }\n",
       "\n",
       "    .dataframe thead th {\n",
       "        text-align: right;\n",
       "    }\n",
       "</style>\n",
       "<table border=\"1\" class=\"dataframe\">\n",
       "  <thead>\n",
       "    <tr style=\"text-align: right;\">\n",
       "      <th></th>\n",
       "      <th>brand</th>\n",
       "      <th>category</th>\n",
       "      <th>pid</th>\n",
       "      <th>price</th>\n",
       "      <th>season</th>\n",
       "      <th>subcategory</th>\n",
       "      <th>subsubcategory</th>\n",
       "      <th>size_count</th>\n",
       "      <th>size_type</th>\n",
       "      <th>mean_price</th>\n",
       "    </tr>\n",
       "  </thead>\n",
       "  <tbody>\n",
       "    <tr>\n",
       "      <th>0</th>\n",
       "      <td>BlueRiver Co.</td>\n",
       "      <td>Formal Attire</td>\n",
       "      <td>b9c74f687ca55f2</td>\n",
       "      <td>74.57</td>\n",
       "      <td>Winter</td>\n",
       "      <td>Petite</td>\n",
       "      <td>Formal Set</td>\n",
       "      <td>5</td>\n",
       "      <td>0</td>\n",
       "      <td>74.575</td>\n",
       "    </tr>\n",
       "    <tr>\n",
       "      <th>1</th>\n",
       "      <td>BlueRiver Co.</td>\n",
       "      <td>Formal Attire</td>\n",
       "      <td>b9c74f687ca55f2</td>\n",
       "      <td>74.58</td>\n",
       "      <td>Winter</td>\n",
       "      <td>Petite</td>\n",
       "      <td>Formal Set</td>\n",
       "      <td>5</td>\n",
       "      <td>0</td>\n",
       "      <td>74.575</td>\n",
       "    </tr>\n",
       "    <tr>\n",
       "      <th>2</th>\n",
       "      <td>BlueRiver Co.</td>\n",
       "      <td>Formal Attire</td>\n",
       "      <td>db4e11720013c7e</td>\n",
       "      <td>74.57</td>\n",
       "      <td>Winter</td>\n",
       "      <td>Petite</td>\n",
       "      <td>Formal Set</td>\n",
       "      <td>6</td>\n",
       "      <td>0</td>\n",
       "      <td>74.575</td>\n",
       "    </tr>\n",
       "    <tr>\n",
       "      <th>3</th>\n",
       "      <td>BlueRiver Co.</td>\n",
       "      <td>Formal Attire</td>\n",
       "      <td>db4e11720013c7e</td>\n",
       "      <td>74.58</td>\n",
       "      <td>Winter</td>\n",
       "      <td>Petite</td>\n",
       "      <td>Formal Set</td>\n",
       "      <td>6</td>\n",
       "      <td>0</td>\n",
       "      <td>74.575</td>\n",
       "    </tr>\n",
       "    <tr>\n",
       "      <th>4</th>\n",
       "      <td>BlueRiver Co.</td>\n",
       "      <td>Formal Attire</td>\n",
       "      <td>24300ea1d6f9af3</td>\n",
       "      <td>75.72</td>\n",
       "      <td>Winter</td>\n",
       "      <td>Petite</td>\n",
       "      <td>Formal Set</td>\n",
       "      <td>6</td>\n",
       "      <td>0</td>\n",
       "      <td>75.720</td>\n",
       "    </tr>\n",
       "  </tbody>\n",
       "</table>\n",
       "</div>"
      ],
      "text/plain": [
       "           brand       category              pid  price  season subcategory  \\\n",
       "0  BlueRiver Co.  Formal Attire  b9c74f687ca55f2  74.57  Winter      Petite   \n",
       "1  BlueRiver Co.  Formal Attire  b9c74f687ca55f2  74.58  Winter      Petite   \n",
       "2  BlueRiver Co.  Formal Attire  db4e11720013c7e  74.57  Winter      Petite   \n",
       "3  BlueRiver Co.  Formal Attire  db4e11720013c7e  74.58  Winter      Petite   \n",
       "4  BlueRiver Co.  Formal Attire  24300ea1d6f9af3  75.72  Winter      Petite   \n",
       "\n",
       "  subsubcategory  size_count  size_type  mean_price  \n",
       "0     Formal Set           5          0      74.575  \n",
       "1     Formal Set           5          0      74.575  \n",
       "2     Formal Set           6          0      74.575  \n",
       "3     Formal Set           6          0      74.575  \n",
       "4     Formal Set           6          0      75.720  "
      ]
     },
     "execution_count": 324,
     "metadata": {},
     "output_type": "execute_result"
    }
   ],
   "source": [
    "# put mean of price in price col and delete duplicate\n",
    "mean_price = products.groupby('pid')['price'].mean()\n",
    "mean_price = pd.DataFrame(mean_price).reset_index()\n",
    "mean_price.columns=['pid','mean_price']\n",
    "products = pd.merge(products,mean_price, on ='pid')\n",
    "products.head()"
   ]
  },
  {
   "cell_type": "code",
   "execution_count": 325,
   "id": "631b2cc2-12c7-4c5f-b6a1-705498ad1f11",
   "metadata": {},
   "outputs": [],
   "source": [
    "#drop price col and delete duplicate\n",
    "products = products.drop(columns=['price'])\n",
    "products = products.drop_duplicates()"
   ]
  },
  {
   "cell_type": "code",
   "execution_count": 326,
   "id": "ff4ccf8a-b848-451b-a2cb-9d67165acae6",
   "metadata": {},
   "outputs": [
    {
     "data": {
      "text/plain": [
       "(13712, 9)"
      ]
     },
     "execution_count": 326,
     "metadata": {},
     "output_type": "execute_result"
    }
   ],
   "source": [
    "products.shape"
   ]
  },
  {
   "cell_type": "code",
   "execution_count": 327,
   "id": "190f30cb-36f2-4894-844f-bf6da2228d50",
   "metadata": {},
   "outputs": [
    {
     "data": {
      "text/html": [
       "<div>\n",
       "<style scoped>\n",
       "    .dataframe tbody tr th:only-of-type {\n",
       "        vertical-align: middle;\n",
       "    }\n",
       "\n",
       "    .dataframe tbody tr th {\n",
       "        vertical-align: top;\n",
       "    }\n",
       "\n",
       "    .dataframe thead th {\n",
       "        text-align: right;\n",
       "    }\n",
       "</style>\n",
       "<table border=\"1\" class=\"dataframe\">\n",
       "  <thead>\n",
       "    <tr style=\"text-align: right;\">\n",
       "      <th></th>\n",
       "      <th>brand</th>\n",
       "      <th>category</th>\n",
       "      <th>pid</th>\n",
       "      <th>season</th>\n",
       "      <th>subcategory</th>\n",
       "      <th>subsubcategory</th>\n",
       "      <th>size_count</th>\n",
       "      <th>size_type</th>\n",
       "      <th>mean_price</th>\n",
       "    </tr>\n",
       "  </thead>\n",
       "  <tbody>\n",
       "    <tr>\n",
       "      <th>0</th>\n",
       "      <td>BlueRiver Co.</td>\n",
       "      <td>Formal Attire</td>\n",
       "      <td>b9c74f687ca55f2</td>\n",
       "      <td>Winter</td>\n",
       "      <td>Petite</td>\n",
       "      <td>Formal Set</td>\n",
       "      <td>5</td>\n",
       "      <td>0</td>\n",
       "      <td>74.575</td>\n",
       "    </tr>\n",
       "    <tr>\n",
       "      <th>2</th>\n",
       "      <td>BlueRiver Co.</td>\n",
       "      <td>Formal Attire</td>\n",
       "      <td>db4e11720013c7e</td>\n",
       "      <td>Winter</td>\n",
       "      <td>Petite</td>\n",
       "      <td>Formal Set</td>\n",
       "      <td>6</td>\n",
       "      <td>0</td>\n",
       "      <td>74.575</td>\n",
       "    </tr>\n",
       "    <tr>\n",
       "      <th>4</th>\n",
       "      <td>BlueRiver Co.</td>\n",
       "      <td>Formal Attire</td>\n",
       "      <td>24300ea1d6f9af3</td>\n",
       "      <td>Winter</td>\n",
       "      <td>Petite</td>\n",
       "      <td>Formal Set</td>\n",
       "      <td>6</td>\n",
       "      <td>0</td>\n",
       "      <td>75.720</td>\n",
       "    </tr>\n",
       "    <tr>\n",
       "      <th>5</th>\n",
       "      <td>BlueRiver Co.</td>\n",
       "      <td>Formal Attire</td>\n",
       "      <td>c9d612b1b2b30bf</td>\n",
       "      <td>Summer</td>\n",
       "      <td>Petite</td>\n",
       "      <td>Formal Set</td>\n",
       "      <td>6</td>\n",
       "      <td>0</td>\n",
       "      <td>74.575</td>\n",
       "    </tr>\n",
       "    <tr>\n",
       "      <th>7</th>\n",
       "      <td>BlueRiver Co.</td>\n",
       "      <td>Formal Attire</td>\n",
       "      <td>278bdb301992163</td>\n",
       "      <td>Summer</td>\n",
       "      <td>Petite</td>\n",
       "      <td>Formal Set</td>\n",
       "      <td>5</td>\n",
       "      <td>0</td>\n",
       "      <td>74.570</td>\n",
       "    </tr>\n",
       "  </tbody>\n",
       "</table>\n",
       "</div>"
      ],
      "text/plain": [
       "           brand       category              pid  season subcategory  \\\n",
       "0  BlueRiver Co.  Formal Attire  b9c74f687ca55f2  Winter      Petite   \n",
       "2  BlueRiver Co.  Formal Attire  db4e11720013c7e  Winter      Petite   \n",
       "4  BlueRiver Co.  Formal Attire  24300ea1d6f9af3  Winter      Petite   \n",
       "5  BlueRiver Co.  Formal Attire  c9d612b1b2b30bf  Summer      Petite   \n",
       "7  BlueRiver Co.  Formal Attire  278bdb301992163  Summer      Petite   \n",
       "\n",
       "  subsubcategory  size_count  size_type  mean_price  \n",
       "0     Formal Set           5          0      74.575  \n",
       "2     Formal Set           6          0      74.575  \n",
       "4     Formal Set           6          0      75.720  \n",
       "5     Formal Set           6          0      74.575  \n",
       "7     Formal Set           5          0      74.570  "
      ]
     },
     "execution_count": 327,
     "metadata": {},
     "output_type": "execute_result"
    }
   ],
   "source": [
    "products.head()"
   ]
  },
  {
   "cell_type": "markdown",
   "id": "324cdc16-30cc-44fc-91b3-55f3737ac7b6",
   "metadata": {},
   "source": [
    "## Table 2 : sale_yr1"
   ]
  },
  {
   "cell_type": "code",
   "execution_count": 329,
   "id": "6fa9a1d5-f980-4ae5-af72-c3411650ae4b",
   "metadata": {},
   "outputs": [
    {
     "data": {
      "text/html": [
       "<div>\n",
       "<style scoped>\n",
       "    .dataframe tbody tr th:only-of-type {\n",
       "        vertical-align: middle;\n",
       "    }\n",
       "\n",
       "    .dataframe tbody tr th {\n",
       "        vertical-align: top;\n",
       "    }\n",
       "\n",
       "    .dataframe thead th {\n",
       "        text-align: right;\n",
       "    }\n",
       "</style>\n",
       "<table border=\"1\" class=\"dataframe\">\n",
       "  <thead>\n",
       "    <tr style=\"text-align: right;\">\n",
       "      <th></th>\n",
       "      <th>channel</th>\n",
       "      <th>date_id</th>\n",
       "      <th>pid</th>\n",
       "      <th>net_sales_amount</th>\n",
       "    </tr>\n",
       "  </thead>\n",
       "  <tbody>\n",
       "    <tr>\n",
       "      <th>0</th>\n",
       "      <td>CH//</td>\n",
       "      <td>20220322.0</td>\n",
       "      <td>b51a86b6eee6426</td>\n",
       "      <td>-1.0</td>\n",
       "    </tr>\n",
       "    <tr>\n",
       "      <th>1</th>\n",
       "      <td>CH//</td>\n",
       "      <td>20210928.0</td>\n",
       "      <td>669ae35300540ef</td>\n",
       "      <td>-1.0</td>\n",
       "    </tr>\n",
       "    <tr>\n",
       "      <th>2</th>\n",
       "      <td>CH//</td>\n",
       "      <td>20201015.0</td>\n",
       "      <td>52836da7b3f28e8</td>\n",
       "      <td>-1.0</td>\n",
       "    </tr>\n",
       "    <tr>\n",
       "      <th>3</th>\n",
       "      <td>CH//</td>\n",
       "      <td>20211018.0</td>\n",
       "      <td>e1a2f5ec090c1b7</td>\n",
       "      <td>1.0</td>\n",
       "    </tr>\n",
       "    <tr>\n",
       "      <th>4</th>\n",
       "      <td>CH//</td>\n",
       "      <td>20191217.0</td>\n",
       "      <td>e7fb7eb5f96c8cd</td>\n",
       "      <td>11.0</td>\n",
       "    </tr>\n",
       "  </tbody>\n",
       "</table>\n",
       "</div>"
      ],
      "text/plain": [
       "  channel     date_id              pid  net_sales_amount\n",
       "0    CH//  20220322.0  b51a86b6eee6426              -1.0\n",
       "1    CH//  20210928.0  669ae35300540ef              -1.0\n",
       "2    CH//  20201015.0  52836da7b3f28e8              -1.0\n",
       "3    CH//  20211018.0  e1a2f5ec090c1b7               1.0\n",
       "4    CH//  20191217.0  e7fb7eb5f96c8cd              11.0"
      ]
     },
     "execution_count": 329,
     "metadata": {},
     "output_type": "execute_result"
    }
   ],
   "source": [
    "sales_yr1.head()"
   ]
  },
  {
   "cell_type": "code",
   "execution_count": 333,
   "id": "930c71cc-3ad1-4f69-b57c-1c8f2353d4ab",
   "metadata": {},
   "outputs": [
    {
     "data": {
      "text/plain": [
       "channel              object\n",
       "date_id             float64\n",
       "pid                  object\n",
       "net_sales_amount    float64\n",
       "dtype: object"
      ]
     },
     "execution_count": 333,
     "metadata": {},
     "output_type": "execute_result"
    }
   ],
   "source": [
    "sales_yr1.dtypes"
   ]
  },
  {
   "cell_type": "code",
   "execution_count": 334,
   "id": "67652881-b039-4b2e-a449-5695cb04704a",
   "metadata": {},
   "outputs": [],
   "source": [
    "sales_yr1['date_id'] = pd.to_datetime(sales_yr1['date_id'],format=\"%Y%m%d\")"
   ]
  },
  {
   "cell_type": "code",
   "execution_count": 335,
   "id": "39cb6ce6-c5b6-4f50-ab84-bf90508f961d",
   "metadata": {},
   "outputs": [
    {
     "data": {
      "text/plain": [
       "channel                     object\n",
       "date_id             datetime64[ns]\n",
       "pid                         object\n",
       "net_sales_amount           float64\n",
       "dtype: object"
      ]
     },
     "execution_count": 335,
     "metadata": {},
     "output_type": "execute_result"
    }
   ],
   "source": [
    "sales_yr1.dtypes"
   ]
  },
  {
   "cell_type": "code",
   "execution_count": 336,
   "id": "f2279002-0983-44b1-ad66-8017ea1af7a4",
   "metadata": {},
   "outputs": [
    {
     "data": {
      "text/plain": [
       "array(['CH//', nan, 'CH//CharleroiDepot', 'CH//BrusselsMart',\n",
       "       'CH//BruggeSquare', 'CH//AalstEmporium', 'CH//KortrijkShowroom',\n",
       "       'CH//MonsPlaza', 'CH//AntwerpOutlet', 'CH//TournaiShop',\n",
       "       'CH//MechelenCenter', 'CH//LeuvenStyles', 'CH//NamurPoint',\n",
       "       'CH//OstendStore', 'CH//HasseltFashions', 'CH//GhentBoutique',\n",
       "       'CH//LiegeHub', 'CH//GenkGallery', 'CH//amazon.com',\n",
       "       'CH//Franchise_NL', 'CH//Online'], dtype=object)"
      ]
     },
     "execution_count": 336,
     "metadata": {},
     "output_type": "execute_result"
    }
   ],
   "source": [
    "sales_yr1['channel'].unique()"
   ]
  },
  {
   "cell_type": "code",
   "execution_count": 337,
   "id": "c6f94d48-31f8-492c-bafb-d6ff2291d86c",
   "metadata": {},
   "outputs": [
    {
     "data": {
      "text/plain": [
       "array(['', nan, 'CharleroiDepot', 'BrusselsMart', 'BruggeSquare',\n",
       "       'AalstEmporium', 'KortrijkShowroom', 'MonsPlaza', 'AntwerpOutlet',\n",
       "       'TournaiShop', 'MechelenCenter', 'LeuvenStyles', 'NamurPoint',\n",
       "       'OstendStore', 'HasseltFashions', 'GhentBoutique', 'LiegeHub',\n",
       "       'GenkGallery', 'amazon.com', 'Franchise_NL', 'Online'],\n",
       "      dtype=object)"
      ]
     },
     "execution_count": 337,
     "metadata": {},
     "output_type": "execute_result"
    }
   ],
   "source": [
    "# delete ch from the first of each row\n",
    "sales_yr1['channel'] = sales_yr1['channel'].str.replace('CH//','')\n",
    "sales_yr1['channel'].unique()"
   ]
  },
  {
   "cell_type": "code",
   "execution_count": null,
   "id": "07394546-f8bd-48b2-9565-4494125d1236",
   "metadata": {},
   "outputs": [],
   "source": []
  }
 ],
 "metadata": {
  "kernelspec": {
   "display_name": "Python 3 (ipykernel)",
   "language": "python",
   "name": "python3"
  },
  "language_info": {
   "codemirror_mode": {
    "name": "ipython",
    "version": 3
   },
   "file_extension": ".py",
   "mimetype": "text/x-python",
   "name": "python",
   "nbconvert_exporter": "python",
   "pygments_lexer": "ipython3",
   "version": "3.11.7"
  }
 },
 "nbformat": 4,
 "nbformat_minor": 5
}
