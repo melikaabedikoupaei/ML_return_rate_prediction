{
 "cells": [
  {
   "cell_type": "code",
   "execution_count": 1,
   "id": "0afe232d-0757-4253-94d4-5be4560b60d6",
   "metadata": {},
   "outputs": [],
   "source": [
    "#load library\n",
    "import pandas as pd\n",
    "import numpy as np"
   ]
  },
  {
   "cell_type": "code",
   "execution_count": 2,
   "id": "5f7917ac-7477-488d-b7b3-9be4c0aaf74c",
   "metadata": {},
   "outputs": [],
   "source": [
    "path=\"C:/Users/melika/Desktop/melika/ml/csv/\""
   ]
  },
  {
   "cell_type": "code",
   "execution_count": 3,
   "id": "a29a8612-55db-4bdd-84b4-27368f8a48da",
   "metadata": {},
   "outputs": [],
   "source": [
    "products=pd.read_csv(f\"{path}products.csv\",sep=\",\")\n",
    "predictions=pd.read_csv(f\"{path}predictions.csv\",sep=\",\")\n",
    "sales_yr1=pd.read_csv(f\"{path}sales_yr1.csv\",sep=\",\")\n",
    "sales_yr2=pd.read_csv(f\"{path}sales_yr2.csv\",sep=\",\")"
   ]
  },
  {
   "cell_type": "markdown",
   "id": "acb5320a-537c-480f-b2d2-9b1d4f6729a8",
   "metadata": {},
   "source": [
    "# Cleaning process"
   ]
  },
  {
   "cell_type": "markdown",
   "id": "5434e5f2-efa9-4d2a-8f49-dffa1baa1c28",
   "metadata": {},
   "source": [
    "## Table 1 : product"
   ]
  },
  {
   "cell_type": "code",
   "execution_count": 4,
   "id": "ab8a9cb4-335a-4d67-bfc7-0d782b1dd70e",
   "metadata": {},
   "outputs": [
    {
     "data": {
      "text/html": [
       "<div>\n",
       "<style scoped>\n",
       "    .dataframe tbody tr th:only-of-type {\n",
       "        vertical-align: middle;\n",
       "    }\n",
       "\n",
       "    .dataframe tbody tr th {\n",
       "        vertical-align: top;\n",
       "    }\n",
       "\n",
       "    .dataframe thead th {\n",
       "        text-align: right;\n",
       "    }\n",
       "</style>\n",
       "<table border=\"1\" class=\"dataframe\">\n",
       "  <thead>\n",
       "    <tr style=\"text-align: right;\">\n",
       "      <th></th>\n",
       "      <th>brand</th>\n",
       "      <th>category</th>\n",
       "      <th>pid</th>\n",
       "      <th>price</th>\n",
       "      <th>season</th>\n",
       "      <th>sku_size</th>\n",
       "      <th>subcategory</th>\n",
       "      <th>subsubcategory</th>\n",
       "    </tr>\n",
       "  </thead>\n",
       "  <tbody>\n",
       "    <tr>\n",
       "      <th>0</th>\n",
       "      <td>[brand::]BlueRiver Co.</td>\n",
       "      <td>Formal Attire</td>\n",
       "      <td>b9c74f687ca55f2</td>\n",
       "      <td>74.57  €</td>\n",
       "      <td>Winter</td>\n",
       "      <td>46</td>\n",
       "      <td>Formal Attire-Petite</td>\n",
       "      <td>Formal Set</td>\n",
       "    </tr>\n",
       "    <tr>\n",
       "      <th>1</th>\n",
       "      <td>[brand::]BlueRiver Co.</td>\n",
       "      <td>Formal Attire</td>\n",
       "      <td>b9c74f687ca55f2</td>\n",
       "      <td>74.57  €</td>\n",
       "      <td>Winter</td>\n",
       "      <td>50</td>\n",
       "      <td>Formal Attire-Petite</td>\n",
       "      <td>Formal Set</td>\n",
       "    </tr>\n",
       "  </tbody>\n",
       "</table>\n",
       "</div>"
      ],
      "text/plain": [
       "                    brand       category              pid     price  season  \\\n",
       "0  [brand::]BlueRiver Co.  Formal Attire  b9c74f687ca55f2  74.57  €  Winter   \n",
       "1  [brand::]BlueRiver Co.  Formal Attire  b9c74f687ca55f2  74.57  €  Winter   \n",
       "\n",
       "  sku_size           subcategory subsubcategory  \n",
       "0     46    Formal Attire-Petite     Formal Set  \n",
       "1     50    Formal Attire-Petite     Formal Set  "
      ]
     },
     "execution_count": 4,
     "metadata": {},
     "output_type": "execute_result"
    }
   ],
   "source": [
    "products.head(2)"
   ]
  },
  {
   "cell_type": "code",
   "execution_count": 5,
   "id": "b894c472-352a-4689-a47a-6b4e8a8e83bb",
   "metadata": {},
   "outputs": [
    {
     "data": {
      "text/plain": [
       "(60146, 8)"
      ]
     },
     "execution_count": 5,
     "metadata": {},
     "output_type": "execute_result"
    }
   ],
   "source": [
    "products.shape"
   ]
  },
  {
   "cell_type": "code",
   "execution_count": 6,
   "id": "49d7ad27-7a8c-48bd-a9a1-8cbfa6b38893",
   "metadata": {},
   "outputs": [
    {
     "data": {
      "text/html": [
       "<div>\n",
       "<style scoped>\n",
       "    .dataframe tbody tr th:only-of-type {\n",
       "        vertical-align: middle;\n",
       "    }\n",
       "\n",
       "    .dataframe tbody tr th {\n",
       "        vertical-align: top;\n",
       "    }\n",
       "\n",
       "    .dataframe thead th {\n",
       "        text-align: right;\n",
       "    }\n",
       "</style>\n",
       "<table border=\"1\" class=\"dataframe\">\n",
       "  <thead>\n",
       "    <tr style=\"text-align: right;\">\n",
       "      <th></th>\n",
       "      <th>brand</th>\n",
       "      <th>category</th>\n",
       "      <th>pid</th>\n",
       "      <th>price</th>\n",
       "      <th>season</th>\n",
       "      <th>sku_size</th>\n",
       "      <th>subcategory</th>\n",
       "      <th>subsubcategory</th>\n",
       "    </tr>\n",
       "  </thead>\n",
       "  <tbody>\n",
       "    <tr>\n",
       "      <th>count</th>\n",
       "      <td>59404</td>\n",
       "      <td>60146</td>\n",
       "      <td>60146</td>\n",
       "      <td>60146</td>\n",
       "      <td>60146</td>\n",
       "      <td>59484</td>\n",
       "      <td>60146</td>\n",
       "      <td>60124</td>\n",
       "    </tr>\n",
       "    <tr>\n",
       "      <th>unique</th>\n",
       "      <td>84</td>\n",
       "      <td>11</td>\n",
       "      <td>13027</td>\n",
       "      <td>545</td>\n",
       "      <td>2</td>\n",
       "      <td>134</td>\n",
       "      <td>20</td>\n",
       "      <td>65</td>\n",
       "    </tr>\n",
       "    <tr>\n",
       "      <th>top</th>\n",
       "      <td>[brand::]SkyWing</td>\n",
       "      <td>Tops</td>\n",
       "      <td>4429df044bcdb02</td>\n",
       "      <td>53.99  €</td>\n",
       "      <td>Summer</td>\n",
       "      <td>M</td>\n",
       "      <td>Tops-Adult</td>\n",
       "      <td>Sporty Short-Sleeve</td>\n",
       "    </tr>\n",
       "    <tr>\n",
       "      <th>freq</th>\n",
       "      <td>5663</td>\n",
       "      <td>13534</td>\n",
       "      <td>43</td>\n",
       "      <td>2551</td>\n",
       "      <td>32875</td>\n",
       "      <td>7940</td>\n",
       "      <td>12432</td>\n",
       "      <td>7383</td>\n",
       "    </tr>\n",
       "  </tbody>\n",
       "</table>\n",
       "</div>"
      ],
      "text/plain": [
       "                   brand category              pid     price  season sku_size  \\\n",
       "count              59404    60146            60146     60146   60146    59484   \n",
       "unique                84       11            13027       545       2      134   \n",
       "top     [brand::]SkyWing     Tops  4429df044bcdb02  53.99  €  Summer      M     \n",
       "freq                5663    13534               43      2551   32875     7940   \n",
       "\n",
       "       subcategory       subsubcategory  \n",
       "count        60146                60124  \n",
       "unique          20                   65  \n",
       "top     Tops-Adult  Sporty Short-Sleeve  \n",
       "freq         12432                 7383  "
      ]
     },
     "execution_count": 6,
     "metadata": {},
     "output_type": "execute_result"
    }
   ],
   "source": [
    "products.describe()"
   ]
  },
  {
   "cell_type": "code",
   "execution_count": 7,
   "id": "6e4fdaf9-c7cd-4cd7-ba2a-b8107c2bb5b5",
   "metadata": {},
   "outputs": [
    {
     "data": {
      "text/plain": [
       "brand             object\n",
       "category          object\n",
       "pid               object\n",
       "price             object\n",
       "season            object\n",
       "sku_size          object\n",
       "subcategory       object\n",
       "subsubcategory    object\n",
       "dtype: object"
      ]
     },
     "execution_count": 7,
     "metadata": {},
     "output_type": "execute_result"
    }
   ],
   "source": [
    "products.dtypes"
   ]
  },
  {
   "cell_type": "markdown",
   "id": "6e7f7e74-23e3-4859-b451-1b0c0e930dee",
   "metadata": {},
   "source": [
    "### 1.1 price"
   ]
  },
  {
   "cell_type": "code",
   "execution_count": 8,
   "id": "ca28ec7f-def5-4134-90d4-5cc14b312901",
   "metadata": {},
   "outputs": [],
   "source": [
    "# Remove currency symbols (e.g., '$') from the 'price' column\n",
    "products['price'] = products['price'].str.replace('€','',regex=True)\n",
    "# Remove any leading or trailing whitespace\n",
    "products['price'] = products['price'].str.strip()  \n",
    "# Convert to numeric, coercing errors to NaN\n",
    "products['price'] = pd.to_numeric(products['price'], errors='coerce')"
   ]
  },
  {
   "cell_type": "code",
   "execution_count": 9,
   "id": "795db301-ccba-428c-bd40-5cb7f54e3c1b",
   "metadata": {},
   "outputs": [
    {
     "data": {
      "text/plain": [
       "brand              object\n",
       "category           object\n",
       "pid                object\n",
       "price             float64\n",
       "season             object\n",
       "sku_size           object\n",
       "subcategory        object\n",
       "subsubcategory     object\n",
       "dtype: object"
      ]
     },
     "execution_count": 9,
     "metadata": {},
     "output_type": "execute_result"
    }
   ],
   "source": [
    "products.dtypes"
   ]
  },
  {
   "cell_type": "code",
   "execution_count": 10,
   "id": "52586f35-b85d-4fe8-b1fb-54ffe76a6c4d",
   "metadata": {},
   "outputs": [
    {
     "data": {
      "text/plain": [
       "count    60145.000000\n",
       "mean        56.677518\n",
       "std          6.563974\n",
       "min        -48.120000\n",
       "25%         52.580000\n",
       "50%         56.400000\n",
       "75%         60.520000\n",
       "max         86.490000\n",
       "Name: price, dtype: float64"
      ]
     },
     "execution_count": 10,
     "metadata": {},
     "output_type": "execute_result"
    }
   ],
   "source": [
    "products['price'].describe()"
   ]
  },
  {
   "cell_type": "code",
   "execution_count": 11,
   "id": "33bb88b5-5780-4131-b381-8425c0daa495",
   "metadata": {},
   "outputs": [
    {
     "data": {
      "text/html": [
       "<div>\n",
       "<style scoped>\n",
       "    .dataframe tbody tr th:only-of-type {\n",
       "        vertical-align: middle;\n",
       "    }\n",
       "\n",
       "    .dataframe tbody tr th {\n",
       "        vertical-align: top;\n",
       "    }\n",
       "\n",
       "    .dataframe thead th {\n",
       "        text-align: right;\n",
       "    }\n",
       "</style>\n",
       "<table border=\"1\" class=\"dataframe\">\n",
       "  <thead>\n",
       "    <tr style=\"text-align: right;\">\n",
       "      <th></th>\n",
       "      <th>brand</th>\n",
       "      <th>category</th>\n",
       "      <th>pid</th>\n",
       "      <th>price</th>\n",
       "      <th>season</th>\n",
       "      <th>sku_size</th>\n",
       "      <th>subcategory</th>\n",
       "      <th>subsubcategory</th>\n",
       "    </tr>\n",
       "  </thead>\n",
       "  <tbody>\n",
       "    <tr>\n",
       "      <th>26964</th>\n",
       "      <td>[brand::]FrontlineStyles</td>\n",
       "      <td>Miscellaneous</td>\n",
       "      <td>bbfdd87aa41aa46</td>\n",
       "      <td>-48.12</td>\n",
       "      <td>Winter</td>\n",
       "      <td>0</td>\n",
       "      <td>Miscellaneous-Adult</td>\n",
       "      <td>Bling</td>\n",
       "    </tr>\n",
       "    <tr>\n",
       "      <th>45736</th>\n",
       "      <td>[brand::]DarkHarbor</td>\n",
       "      <td>Sweaters</td>\n",
       "      <td>192e40abd0fa700</td>\n",
       "      <td>-45.78</td>\n",
       "      <td>Winter</td>\n",
       "      <td>XL</td>\n",
       "      <td>Sweaters-Petite</td>\n",
       "      <td>Plunge Top</td>\n",
       "    </tr>\n",
       "  </tbody>\n",
       "</table>\n",
       "</div>"
      ],
      "text/plain": [
       "                          brand       category              pid  price  \\\n",
       "26964  [brand::]FrontlineStyles  Miscellaneous  bbfdd87aa41aa46 -48.12   \n",
       "45736       [brand::]DarkHarbor       Sweaters  192e40abd0fa700 -45.78   \n",
       "\n",
       "       season sku_size          subcategory subsubcategory  \n",
       "26964  Winter      0    Miscellaneous-Adult          Bling  \n",
       "45736  Winter     XL        Sweaters-Petite     Plunge Top  "
      ]
     },
     "execution_count": 11,
     "metadata": {},
     "output_type": "execute_result"
    }
   ],
   "source": [
    "#count negetive price\n",
    "products[products['price']<0]"
   ]
  },
  {
   "cell_type": "code",
   "execution_count": 12,
   "id": "10c7537f-5ec0-4413-abbe-076c4a612c35",
   "metadata": {},
   "outputs": [],
   "source": [
    "# Drop rows where 'price' is negative\n",
    "products = products[products['price'] >= 0]"
   ]
  },
  {
   "cell_type": "code",
   "execution_count": 13,
   "id": "8670ecd8-c3d8-4d8f-ac86-2c5f77e75a2a",
   "metadata": {},
   "outputs": [
    {
     "data": {
      "text/plain": [
       "count    60143.000000\n",
       "mean        56.680964\n",
       "std          6.536820\n",
       "min         23.300000\n",
       "25%         52.580000\n",
       "50%         56.400000\n",
       "75%         60.520000\n",
       "max         86.490000\n",
       "Name: price, dtype: float64"
      ]
     },
     "execution_count": 13,
     "metadata": {},
     "output_type": "execute_result"
    }
   ],
   "source": [
    "products['price'].describe()"
   ]
  },
  {
   "cell_type": "markdown",
   "id": "132d93d9-d30d-4ea5-b4a2-cf37fc2e2706",
   "metadata": {},
   "source": [
    "### 1.2 category and subcategory variable"
   ]
  },
  {
   "cell_type": "code",
   "execution_count": 14,
   "id": "5a6840ff-9d9e-41ec-8956-855ce7f56eef",
   "metadata": {},
   "outputs": [
    {
     "data": {
      "text/plain": [
       "category\n",
       "Tops              13534\n",
       "Sweaters          12753\n",
       "Trousers          11211\n",
       "Button-Ups         8351\n",
       "Footwear           6152\n",
       "Outerwear          4606\n",
       "Blazers            1460\n",
       "Miscellaneous      1087\n",
       "High-End Items      768\n",
       "Formal Attire       207\n",
       "Add-Ons              14\n",
       "Name: count, dtype: int64"
      ]
     },
     "execution_count": 14,
     "metadata": {},
     "output_type": "execute_result"
    }
   ],
   "source": [
    "products['category'].value_counts()"
   ]
  },
  {
   "cell_type": "code",
   "execution_count": 15,
   "id": "bcb5233d-36f5-4458-933f-cb7ed75b544b",
   "metadata": {},
   "outputs": [
    {
     "data": {
      "text/plain": [
       "0        Formal Attire-Petite\n",
       "1        Formal Attire-Petite\n",
       "2        Formal Attire-Petite\n",
       "3        Formal Attire-Petite\n",
       "4        Formal Attire-Petite\n",
       "                 ...         \n",
       "60141        Button-Ups-Adult\n",
       "60142        Button-Ups-Adult\n",
       "60143        Button-Ups-Adult\n",
       "60144        Button-Ups-Adult\n",
       "60145        Button-Ups-Adult\n",
       "Name: subcategory, Length: 60143, dtype: object"
      ]
     },
     "execution_count": 15,
     "metadata": {},
     "output_type": "execute_result"
    }
   ],
   "source": [
    "products['subcategory']"
   ]
  },
  {
   "cell_type": "code",
   "execution_count": 16,
   "id": "1cc21a56-c5eb-4f3d-9b3a-bead7687ac2f",
   "metadata": {},
   "outputs": [
    {
     "data": {
      "text/plain": [
       "count          60143\n",
       "unique            20\n",
       "top       Tops-Adult\n",
       "freq           12432\n",
       "Name: subcategory, dtype: object"
      ]
     },
     "execution_count": 16,
     "metadata": {},
     "output_type": "execute_result"
    }
   ],
   "source": [
    "products['subcategory'].describe()"
   ]
  },
  {
   "cell_type": "code",
   "execution_count": 17,
   "id": "252a98fc-03c6-46cb-84cf-00c6e8bbdc8a",
   "metadata": {},
   "outputs": [],
   "source": [
    "# Remove text before hyphen in the 'subcategory' column\n",
    "products['subcategory'] = products['subcategory'].str.replace('.*-','',regex=True)"
   ]
  },
  {
   "cell_type": "code",
   "execution_count": 18,
   "id": "f02c740e-3c5f-402a-b6a6-8320d171381b",
   "metadata": {},
   "outputs": [
    {
     "data": {
      "text/plain": [
       "count     60143\n",
       "unique        3\n",
       "top       Adult\n",
       "freq      52266\n",
       "Name: subcategory, dtype: object"
      ]
     },
     "execution_count": 18,
     "metadata": {},
     "output_type": "execute_result"
    }
   ],
   "source": [
    "# now we can see we just have 3 unique subcategory\n",
    "products['subcategory'].describe()"
   ]
  },
  {
   "cell_type": "markdown",
   "id": "99c34913-ed06-4f8c-a313-324e6a56ef0a",
   "metadata": {},
   "source": [
    "### 1.3 brand "
   ]
  },
  {
   "cell_type": "code",
   "execution_count": 19,
   "id": "286918b7-f902-4ba6-96db-b34ee467ac5b",
   "metadata": {},
   "outputs": [
    {
     "data": {
      "text/plain": [
       "0        [brand::]BlueRiver Co.\n",
       "1        [brand::]BlueRiver Co.\n",
       "2        [brand::]BlueRiver Co.\n",
       "3        [brand::]BlueRiver Co.\n",
       "4        [brand::]BlueRiver Co.\n",
       "                  ...          \n",
       "60141           [brand::]DocMan\n",
       "60142           [brand::]DocMan\n",
       "60143           [brand::]DocMan\n",
       "60144           [brand::]DocMan\n",
       "60145           [brand::]DocMan\n",
       "Name: brand, Length: 60143, dtype: object"
      ]
     },
     "execution_count": 19,
     "metadata": {},
     "output_type": "execute_result"
    }
   ],
   "source": [
    "products['brand']"
   ]
  },
  {
   "cell_type": "code",
   "execution_count": 20,
   "id": "7514c41c-8b40-4884-aa2d-54825e2a9bfe",
   "metadata": {},
   "outputs": [],
   "source": [
    "# Clean up the 'brand' column\n",
    "products['brand'] = products['brand'].str.replace('.*]','',regex=True)"
   ]
  },
  {
   "cell_type": "code",
   "execution_count": 21,
   "id": "d6bc9a64-0c65-4a1b-a1e0-b6baac9fb718",
   "metadata": {},
   "outputs": [
    {
     "data": {
      "text/plain": [
       "0        BlueRiver Co.\n",
       "1        BlueRiver Co.\n",
       "2        BlueRiver Co.\n",
       "3        BlueRiver Co.\n",
       "4        BlueRiver Co.\n",
       "             ...      \n",
       "60141           DocMan\n",
       "60142           DocMan\n",
       "60143           DocMan\n",
       "60144           DocMan\n",
       "60145           DocMan\n",
       "Name: brand, Length: 60143, dtype: object"
      ]
     },
     "execution_count": 21,
     "metadata": {},
     "output_type": "execute_result"
    }
   ],
   "source": [
    "products['brand']"
   ]
  },
  {
   "cell_type": "code",
   "execution_count": 22,
   "id": "ce321af9-53e0-4e64-a595-f6d9c66b5100",
   "metadata": {
    "scrolled": true
   },
   "outputs": [
    {
     "data": {
      "text/plain": [
       "['',\n",
       " 'ArcAngel',\n",
       " 'AzureMeat',\n",
       " 'AzureStone',\n",
       " 'AzureWorks',\n",
       " 'BertWear',\n",
       " 'BigStone',\n",
       " 'Blend&Woven',\n",
       " 'BlueRidge',\n",
       " 'BlueRiver Co.',\n",
       " 'BoxMix',\n",
       " 'BuilderStyles',\n",
       " 'CanvasCraft',\n",
       " 'ChillCube',\n",
       " 'CityBrief',\n",
       " 'CloudNine',\n",
       " 'CoralAndFin',\n",
       " 'CoralTrend',\n",
       " 'DarkHarbor',\n",
       " 'DocMan',\n",
       " 'DotDash',\n",
       " 'EchoStyles',\n",
       " 'FlashBack',\n",
       " 'FlatField',\n",
       " 'ForestFoot',\n",
       " 'FrontlineStyles',\n",
       " 'FuelThreads',\n",
       " 'GateStyles',\n",
       " 'GeoStyles',\n",
       " 'HarborTrend',\n",
       " 'HatMasters',\n",
       " 'HighClass',\n",
       " 'IslandLife',\n",
       " 'IsleWear',\n",
       " 'IvyCraft',\n",
       " 'KickStar',\n",
       " 'LakeStyles',\n",
       " 'LookSee',\n",
       " 'LunarLuxe',\n",
       " 'MeadowMaster',\n",
       " 'MetalMold',\n",
       " 'MetroMaven',\n",
       " 'MoonWear',\n",
       " 'MysticLoaf',\n",
       " 'NordicFit',\n",
       " 'NullLabel',\n",
       " 'OceanSketch Elite',\n",
       " 'OldVine Styles',\n",
       " 'OliveSlate',\n",
       " 'OrchardM',\n",
       " 'PeakStyles',\n",
       " 'PedalPrime',\n",
       " 'PineAndFern',\n",
       " 'PlaidCrafters',\n",
       " 'PureDenim',\n",
       " 'PuzzleWear',\n",
       " 'RavenBeach',\n",
       " 'RavenRock',\n",
       " 'RefreshStyles',\n",
       " 'ReinStyles',\n",
       " 'RhythmWear',\n",
       " 'RosePath',\n",
       " 'SilkLeaf',\n",
       " 'SkyGuard',\n",
       " 'SkyWing',\n",
       " 'Skyward',\n",
       " 'SnowPeak',\n",
       " 'SoftTrend',\n",
       " 'SpeedThreads',\n",
       " 'StarHub Threads',\n",
       " 'StreamStride',\n",
       " 'TargetStyles',\n",
       " 'TimelessMan',\n",
       " 'TulipTread',\n",
       " 'TurboTrend',\n",
       " 'UrbanAce',\n",
       " 'UrbanZen',\n",
       " 'VisionMakers',\n",
       " 'VolcanoWear',\n",
       " 'WillowWalk',\n",
       " 'WineThread',\n",
       " 'WitchHazel',\n",
       " 'WorldSight',\n",
       " 'ZenithMan',\n",
       " 'nan']"
      ]
     },
     "execution_count": 22,
     "metadata": {},
     "output_type": "execute_result"
    }
   ],
   "source": [
    "unique_brand = products['brand'].unique()\n",
    "sort_brand = [str(item) for item in unique_brand ]\n",
    "sort_brand.sort()\n",
    "sort_brand"
   ]
  },
  {
   "cell_type": "code",
   "execution_count": 23,
   "id": "e4faf9ce-ddba-43c6-ba40-f5f4a2c0d135",
   "metadata": {},
   "outputs": [
    {
     "name": "stdout",
     "output_type": "stream",
     "text": [
      "before: 742\n",
      "after: 0\n"
     ]
    }
   ],
   "source": [
    "# replace nan with other\n",
    "print('before:',products['brand'].isna().sum())\n",
    "products['brand'] = products['brand'].fillna('others')\n",
    "print('after:',products['brand'].isna().sum())"
   ]
  },
  {
   "cell_type": "code",
   "execution_count": 24,
   "id": "226b006c-23be-4067-bcda-e275818889b0",
   "metadata": {},
   "outputs": [
    {
     "data": {
      "text/html": [
       "<div>\n",
       "<style scoped>\n",
       "    .dataframe tbody tr th:only-of-type {\n",
       "        vertical-align: middle;\n",
       "    }\n",
       "\n",
       "    .dataframe tbody tr th {\n",
       "        vertical-align: top;\n",
       "    }\n",
       "\n",
       "    .dataframe thead th {\n",
       "        text-align: right;\n",
       "    }\n",
       "</style>\n",
       "<table border=\"1\" class=\"dataframe\">\n",
       "  <thead>\n",
       "    <tr style=\"text-align: right;\">\n",
       "      <th></th>\n",
       "      <th>brand</th>\n",
       "      <th>category</th>\n",
       "      <th>pid</th>\n",
       "      <th>price</th>\n",
       "      <th>season</th>\n",
       "      <th>sku_size</th>\n",
       "      <th>subcategory</th>\n",
       "      <th>subsubcategory</th>\n",
       "    </tr>\n",
       "  </thead>\n",
       "  <tbody>\n",
       "    <tr>\n",
       "      <th>0</th>\n",
       "      <td>otherBotherlotheruothereotherRotheriothervothe...</td>\n",
       "      <td>Formal Attire</td>\n",
       "      <td>b9c74f687ca55f2</td>\n",
       "      <td>74.57</td>\n",
       "      <td>Winter</td>\n",
       "      <td>46</td>\n",
       "      <td>Petite</td>\n",
       "      <td>Formal Set</td>\n",
       "    </tr>\n",
       "    <tr>\n",
       "      <th>1</th>\n",
       "      <td>otherBotherlotheruothereotherRotheriothervothe...</td>\n",
       "      <td>Formal Attire</td>\n",
       "      <td>b9c74f687ca55f2</td>\n",
       "      <td>74.57</td>\n",
       "      <td>Winter</td>\n",
       "      <td>50</td>\n",
       "      <td>Petite</td>\n",
       "      <td>Formal Set</td>\n",
       "    </tr>\n",
       "    <tr>\n",
       "      <th>2</th>\n",
       "      <td>otherBotherlotheruothereotherRotheriothervothe...</td>\n",
       "      <td>Formal Attire</td>\n",
       "      <td>b9c74f687ca55f2</td>\n",
       "      <td>74.57</td>\n",
       "      <td>Winter</td>\n",
       "      <td>52</td>\n",
       "      <td>Petite</td>\n",
       "      <td>Formal Set</td>\n",
       "    </tr>\n",
       "    <tr>\n",
       "      <th>3</th>\n",
       "      <td>otherBotherlotheruothereotherRotheriothervothe...</td>\n",
       "      <td>Formal Attire</td>\n",
       "      <td>b9c74f687ca55f2</td>\n",
       "      <td>74.57</td>\n",
       "      <td>Winter</td>\n",
       "      <td>54</td>\n",
       "      <td>Petite</td>\n",
       "      <td>Formal Set</td>\n",
       "    </tr>\n",
       "    <tr>\n",
       "      <th>4</th>\n",
       "      <td>otherBotherlotheruothereotherRotheriothervothe...</td>\n",
       "      <td>Formal Attire</td>\n",
       "      <td>b9c74f687ca55f2</td>\n",
       "      <td>74.58</td>\n",
       "      <td>Winter</td>\n",
       "      <td>48</td>\n",
       "      <td>Petite</td>\n",
       "      <td>Formal Set</td>\n",
       "    </tr>\n",
       "  </tbody>\n",
       "</table>\n",
       "</div>"
      ],
      "text/plain": [
       "                                               brand       category  \\\n",
       "0  otherBotherlotheruothereotherRotheriothervothe...  Formal Attire   \n",
       "1  otherBotherlotheruothereotherRotheriothervothe...  Formal Attire   \n",
       "2  otherBotherlotheruothereotherRotheriothervothe...  Formal Attire   \n",
       "3  otherBotherlotheruothereotherRotheriothervothe...  Formal Attire   \n",
       "4  otherBotherlotheruothereotherRotheriothervothe...  Formal Attire   \n",
       "\n",
       "               pid  price  season sku_size subcategory subsubcategory  \n",
       "0  b9c74f687ca55f2  74.57  Winter     46        Petite     Formal Set  \n",
       "1  b9c74f687ca55f2  74.57  Winter     50        Petite     Formal Set  \n",
       "2  b9c74f687ca55f2  74.57  Winter     52        Petite     Formal Set  \n",
       "3  b9c74f687ca55f2  74.57  Winter     54        Petite     Formal Set  \n",
       "4  b9c74f687ca55f2  74.58  Winter     48        Petite     Formal Set  "
      ]
     },
     "execution_count": 24,
     "metadata": {},
     "output_type": "execute_result"
    }
   ],
   "source": [
    "# replace '' with other\n",
    "products['brand'] = products['brand'].str.replace('','other')\n",
    "products.head()"
   ]
  },
  {
   "cell_type": "code",
   "execution_count": 12,
   "id": "a7e5fed8-c95d-44cb-bd2c-4346c437e4d7",
   "metadata": {},
   "outputs": [
    {
     "data": {
      "text/html": [
       "<div>\n",
       "<style scoped>\n",
       "    .dataframe tbody tr th:only-of-type {\n",
       "        vertical-align: middle;\n",
       "    }\n",
       "\n",
       "    .dataframe tbody tr th {\n",
       "        vertical-align: top;\n",
       "    }\n",
       "\n",
       "    .dataframe thead th {\n",
       "        text-align: right;\n",
       "    }\n",
       "</style>\n",
       "<table border=\"1\" class=\"dataframe\">\n",
       "  <thead>\n",
       "    <tr style=\"text-align: right;\">\n",
       "      <th></th>\n",
       "      <th>channel</th>\n",
       "      <th>date_id</th>\n",
       "      <th>pid</th>\n",
       "      <th>net_sales_amount</th>\n",
       "    </tr>\n",
       "  </thead>\n",
       "  <tbody>\n",
       "    <tr>\n",
       "      <th>0</th>\n",
       "      <td>CH//</td>\n",
       "      <td>20220322.0</td>\n",
       "      <td>b51a86b6eee6426</td>\n",
       "      <td>-1.0</td>\n",
       "    </tr>\n",
       "    <tr>\n",
       "      <th>1</th>\n",
       "      <td>CH//</td>\n",
       "      <td>20210928.0</td>\n",
       "      <td>669ae35300540ef</td>\n",
       "      <td>-1.0</td>\n",
       "    </tr>\n",
       "  </tbody>\n",
       "</table>\n",
       "</div>"
      ],
      "text/plain": [
       "  channel     date_id              pid  net_sales_amount\n",
       "0    CH//  20220322.0  b51a86b6eee6426              -1.0\n",
       "1    CH//  20210928.0  669ae35300540ef              -1.0"
      ]
     },
     "execution_count": 12,
     "metadata": {},
     "output_type": "execute_result"
    }
   ],
   "source": [
    "sales_yr1.head(2)"
   ]
  },
  {
   "cell_type": "code",
   "execution_count": 13,
   "id": "f140a97c-aed9-40ae-95f1-775125be55d5",
   "metadata": {},
   "outputs": [
    {
     "data": {
      "text/html": [
       "<div>\n",
       "<style scoped>\n",
       "    .dataframe tbody tr th:only-of-type {\n",
       "        vertical-align: middle;\n",
       "    }\n",
       "\n",
       "    .dataframe tbody tr th {\n",
       "        vertical-align: top;\n",
       "    }\n",
       "\n",
       "    .dataframe thead th {\n",
       "        text-align: right;\n",
       "    }\n",
       "</style>\n",
       "<table border=\"1\" class=\"dataframe\">\n",
       "  <thead>\n",
       "    <tr style=\"text-align: right;\">\n",
       "      <th></th>\n",
       "      <th>channel</th>\n",
       "      <th>date_id</th>\n",
       "      <th>pid</th>\n",
       "      <th>net_sales_amount</th>\n",
       "    </tr>\n",
       "  </thead>\n",
       "  <tbody>\n",
       "    <tr>\n",
       "      <th>0</th>\n",
       "      <td>CH//Online</td>\n",
       "      <td>20220910.0</td>\n",
       "      <td>00018645b311291</td>\n",
       "      <td>1.0</td>\n",
       "    </tr>\n",
       "    <tr>\n",
       "      <th>1</th>\n",
       "      <td>CH//AntwerpOutlet</td>\n",
       "      <td>NaN</td>\n",
       "      <td>0002c09028f0997</td>\n",
       "      <td>1.0</td>\n",
       "    </tr>\n",
       "  </tbody>\n",
       "</table>\n",
       "</div>"
      ],
      "text/plain": [
       "             channel     date_id              pid  net_sales_amount\n",
       "0         CH//Online  20220910.0  00018645b311291               1.0\n",
       "1  CH//AntwerpOutlet         NaN  0002c09028f0997               1.0"
      ]
     },
     "execution_count": 13,
     "metadata": {},
     "output_type": "execute_result"
    }
   ],
   "source": [
    "sales_yr2.head(2)"
   ]
  },
  {
   "cell_type": "code",
   "execution_count": null,
   "id": "4914af3e-c99a-4af0-afa7-0e29e86a1022",
   "metadata": {},
   "outputs": [],
   "source": []
  }
 ],
 "metadata": {
  "kernelspec": {
   "display_name": "Python 3 (ipykernel)",
   "language": "python",
   "name": "python3"
  },
  "language_info": {
   "codemirror_mode": {
    "name": "ipython",
    "version": 3
   },
   "file_extension": ".py",
   "mimetype": "text/x-python",
   "name": "python",
   "nbconvert_exporter": "python",
   "pygments_lexer": "ipython3",
   "version": "3.11.7"
  }
 },
 "nbformat": 4,
 "nbformat_minor": 5
}
